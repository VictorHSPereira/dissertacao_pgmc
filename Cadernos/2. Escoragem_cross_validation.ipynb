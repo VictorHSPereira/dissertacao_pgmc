{
 "cells": [
  {
   "cell_type": "markdown",
   "metadata": {},
   "source": [
    "# Imports necessários"
   ]
  },
  {
   "cell_type": "markdown",
   "metadata": {},
   "source": [
    "## Bibliotecas"
   ]
  },
  {
   "cell_type": "code",
   "execution_count": 22,
   "metadata": {},
   "outputs": [],
   "source": [
    "from sklearn.model_selection import cross_val_score\n",
    "from sklearn.metrics import mean_squared_error\n",
    "from sklearn.metrics import mean_absolute_error\n",
    "from sklearn.preprocessing import MinMaxScaler\n",
    "from sklearn.model_selection import TimeSeriesSplit\n",
    "import matplotlib.pyplot as plt \n",
    "\n",
    "import statistics as st\n",
    "import sys\n",
    "import math\n",
    "import pandas as pd\n",
    "import numpy as np\n",
    "sys.path.insert(1, '..\\Modelo')\n"
   ]
  },
  {
   "cell_type": "markdown",
   "metadata": {},
   "source": [
    "## Importando a série"
   ]
  },
  {
   "cell_type": "code",
   "execution_count": 26,
   "metadata": {},
   "outputs": [
    {
     "data": {
      "text/html": [
       "<div>\n",
       "<style scoped>\n",
       "    .dataframe tbody tr th:only-of-type {\n",
       "        vertical-align: middle;\n",
       "    }\n",
       "\n",
       "    .dataframe tbody tr th {\n",
       "        vertical-align: top;\n",
       "    }\n",
       "\n",
       "    .dataframe thead th {\n",
       "        text-align: right;\n",
       "    }\n",
       "</style>\n",
       "<table border=\"1\" class=\"dataframe\">\n",
       "  <thead>\n",
       "    <tr style=\"text-align: right;\">\n",
       "      <th></th>\n",
       "      <th>mes</th>\n",
       "      <th>hora_sin</th>\n",
       "      <th>hora_cos</th>\n",
       "      <th>dia_semana_sin</th>\n",
       "      <th>dia_semana_cos</th>\n",
       "      <th>QTD_VEICULOS_USINA</th>\n",
       "      <th>primeira_quinzena</th>\n",
       "      <th>feriado</th>\n",
       "      <th>fim_semana</th>\n",
       "      <th>lag_1h</th>\n",
       "      <th>lag_1d</th>\n",
       "      <th>lag_7d</th>\n",
       "      <th>TPV</th>\n",
       "    </tr>\n",
       "  </thead>\n",
       "  <tbody>\n",
       "    <tr>\n",
       "      <th>0</th>\n",
       "      <td>1</td>\n",
       "      <td>9.659258e-01</td>\n",
       "      <td>-0.258819</td>\n",
       "      <td>-0.974928</td>\n",
       "      <td>-0.222521</td>\n",
       "      <td>21</td>\n",
       "      <td>1</td>\n",
       "      <td>0</td>\n",
       "      <td>1</td>\n",
       "      <td>8.840000</td>\n",
       "      <td>6.538125</td>\n",
       "      <td>2.220000</td>\n",
       "      <td>8.484063</td>\n",
       "    </tr>\n",
       "    <tr>\n",
       "      <th>1</th>\n",
       "      <td>1</td>\n",
       "      <td>8.660254e-01</td>\n",
       "      <td>-0.500000</td>\n",
       "      <td>-0.974928</td>\n",
       "      <td>-0.222521</td>\n",
       "      <td>23</td>\n",
       "      <td>1</td>\n",
       "      <td>0</td>\n",
       "      <td>1</td>\n",
       "      <td>8.885333</td>\n",
       "      <td>6.293235</td>\n",
       "      <td>2.220000</td>\n",
       "      <td>8.150294</td>\n",
       "    </tr>\n",
       "    <tr>\n",
       "      <th>2</th>\n",
       "      <td>1</td>\n",
       "      <td>8.660254e-01</td>\n",
       "      <td>-0.500000</td>\n",
       "      <td>-0.974928</td>\n",
       "      <td>-0.222521</td>\n",
       "      <td>28</td>\n",
       "      <td>1</td>\n",
       "      <td>0</td>\n",
       "      <td>1</td>\n",
       "      <td>8.484063</td>\n",
       "      <td>6.093056</td>\n",
       "      <td>2.476667</td>\n",
       "      <td>7.830648</td>\n",
       "    </tr>\n",
       "    <tr>\n",
       "      <th>3</th>\n",
       "      <td>1</td>\n",
       "      <td>7.071068e-01</td>\n",
       "      <td>-0.707107</td>\n",
       "      <td>-0.974928</td>\n",
       "      <td>-0.222521</td>\n",
       "      <td>35</td>\n",
       "      <td>1</td>\n",
       "      <td>0</td>\n",
       "      <td>1</td>\n",
       "      <td>8.150294</td>\n",
       "      <td>5.945197</td>\n",
       "      <td>2.605000</td>\n",
       "      <td>7.581667</td>\n",
       "    </tr>\n",
       "    <tr>\n",
       "      <th>4</th>\n",
       "      <td>1</td>\n",
       "      <td>7.071068e-01</td>\n",
       "      <td>-0.707107</td>\n",
       "      <td>-0.974928</td>\n",
       "      <td>-0.222521</td>\n",
       "      <td>32</td>\n",
       "      <td>1</td>\n",
       "      <td>0</td>\n",
       "      <td>1</td>\n",
       "      <td>7.830648</td>\n",
       "      <td>5.780604</td>\n",
       "      <td>2.682000</td>\n",
       "      <td>7.362583</td>\n",
       "    </tr>\n",
       "    <tr>\n",
       "      <th>5</th>\n",
       "      <td>1</td>\n",
       "      <td>5.000000e-01</td>\n",
       "      <td>-0.866025</td>\n",
       "      <td>-0.974928</td>\n",
       "      <td>-0.222521</td>\n",
       "      <td>29</td>\n",
       "      <td>1</td>\n",
       "      <td>0</td>\n",
       "      <td>1</td>\n",
       "      <td>7.581667</td>\n",
       "      <td>5.620099</td>\n",
       "      <td>2.733333</td>\n",
       "      <td>7.186905</td>\n",
       "    </tr>\n",
       "    <tr>\n",
       "      <th>6</th>\n",
       "      <td>1</td>\n",
       "      <td>5.000000e-01</td>\n",
       "      <td>-0.866025</td>\n",
       "      <td>-0.974928</td>\n",
       "      <td>-0.222521</td>\n",
       "      <td>29</td>\n",
       "      <td>1</td>\n",
       "      <td>0</td>\n",
       "      <td>1</td>\n",
       "      <td>7.362583</td>\n",
       "      <td>5.523352</td>\n",
       "      <td>2.770000</td>\n",
       "      <td>6.978712</td>\n",
       "    </tr>\n",
       "    <tr>\n",
       "      <th>7</th>\n",
       "      <td>1</td>\n",
       "      <td>2.588190e-01</td>\n",
       "      <td>-0.965926</td>\n",
       "      <td>-0.974928</td>\n",
       "      <td>-0.222521</td>\n",
       "      <td>30</td>\n",
       "      <td>1</td>\n",
       "      <td>0</td>\n",
       "      <td>1</td>\n",
       "      <td>7.186905</td>\n",
       "      <td>5.412337</td>\n",
       "      <td>2.797500</td>\n",
       "      <td>6.898043</td>\n",
       "    </tr>\n",
       "    <tr>\n",
       "      <th>8</th>\n",
       "      <td>1</td>\n",
       "      <td>2.588190e-01</td>\n",
       "      <td>-0.965926</td>\n",
       "      <td>-0.974928</td>\n",
       "      <td>-0.222521</td>\n",
       "      <td>32</td>\n",
       "      <td>1</td>\n",
       "      <td>0</td>\n",
       "      <td>1</td>\n",
       "      <td>6.978712</td>\n",
       "      <td>5.309656</td>\n",
       "      <td>2.818889</td>\n",
       "      <td>6.772153</td>\n",
       "    </tr>\n",
       "    <tr>\n",
       "      <th>9</th>\n",
       "      <td>1</td>\n",
       "      <td>1.224647e-16</td>\n",
       "      <td>-1.000000</td>\n",
       "      <td>-0.974928</td>\n",
       "      <td>-0.222521</td>\n",
       "      <td>31</td>\n",
       "      <td>1</td>\n",
       "      <td>0</td>\n",
       "      <td>1</td>\n",
       "      <td>6.898043</td>\n",
       "      <td>5.209537</td>\n",
       "      <td>2.808000</td>\n",
       "      <td>6.632307</td>\n",
       "    </tr>\n",
       "  </tbody>\n",
       "</table>\n",
       "</div>"
      ],
      "text/plain": [
       "   mes      hora_sin  hora_cos  dia_semana_sin  dia_semana_cos  \\\n",
       "0    1  9.659258e-01 -0.258819       -0.974928       -0.222521   \n",
       "1    1  8.660254e-01 -0.500000       -0.974928       -0.222521   \n",
       "2    1  8.660254e-01 -0.500000       -0.974928       -0.222521   \n",
       "3    1  7.071068e-01 -0.707107       -0.974928       -0.222521   \n",
       "4    1  7.071068e-01 -0.707107       -0.974928       -0.222521   \n",
       "5    1  5.000000e-01 -0.866025       -0.974928       -0.222521   \n",
       "6    1  5.000000e-01 -0.866025       -0.974928       -0.222521   \n",
       "7    1  2.588190e-01 -0.965926       -0.974928       -0.222521   \n",
       "8    1  2.588190e-01 -0.965926       -0.974928       -0.222521   \n",
       "9    1  1.224647e-16 -1.000000       -0.974928       -0.222521   \n",
       "\n",
       "   QTD_VEICULOS_USINA  primeira_quinzena  feriado  fim_semana    lag_1h  \\\n",
       "0                  21                  1        0           1  8.840000   \n",
       "1                  23                  1        0           1  8.885333   \n",
       "2                  28                  1        0           1  8.484063   \n",
       "3                  35                  1        0           1  8.150294   \n",
       "4                  32                  1        0           1  7.830648   \n",
       "5                  29                  1        0           1  7.581667   \n",
       "6                  29                  1        0           1  7.362583   \n",
       "7                  30                  1        0           1  7.186905   \n",
       "8                  32                  1        0           1  6.978712   \n",
       "9                  31                  1        0           1  6.898043   \n",
       "\n",
       "     lag_1d    lag_7d       TPV  \n",
       "0  6.538125  2.220000  8.484063  \n",
       "1  6.293235  2.220000  8.150294  \n",
       "2  6.093056  2.476667  7.830648  \n",
       "3  5.945197  2.605000  7.581667  \n",
       "4  5.780604  2.682000  7.362583  \n",
       "5  5.620099  2.733333  7.186905  \n",
       "6  5.523352  2.770000  6.978712  \n",
       "7  5.412337  2.797500  6.898043  \n",
       "8  5.309656  2.818889  6.772153  \n",
       "9  5.209537  2.808000  6.632307  "
      ]
     },
     "execution_count": 26,
     "metadata": {},
     "output_type": "execute_result"
    }
   ],
   "source": [
    "df = pd.read_csv(\"../Dados/Dados refinados/timeseries.csv\", index_col= 0)\n",
    "df.head(10)"
   ]
  },
  {
   "cell_type": "markdown",
   "metadata": {},
   "source": [
    "# Transformação de dados"
   ]
  },
  {
   "cell_type": "markdown",
   "metadata": {},
   "source": [
    "## Normalizando os dados"
   ]
  },
  {
   "cell_type": "code",
   "execution_count": 27,
   "metadata": {},
   "outputs": [],
   "source": [
    "#Separando X e y\n",
    "\n",
    "X = df.iloc[:, :-1]\n",
    "y = df.iloc[:,-1]"
   ]
  },
  {
   "cell_type": "code",
   "execution_count": 28,
   "metadata": {},
   "outputs": [],
   "source": [
    "#Definindo o scalers\n",
    "scaler_X, scaler_y = MinMaxScaler(),MinMaxScaler()\n",
    "\n",
    "#fit\n",
    "scaler_X.fit(X[['mes','QTD_VEICULOS_USINA']])\n",
    "scaler_y.fit(pd.DataFrame(y))\n",
    "\n",
    "#transform\n",
    "\n",
    "X[['mes','QTD_VEICULOS_USINA']] = scaler_X.transform(X[['mes','QTD_VEICULOS_USINA']])\n",
    "y = scaler_y.transform(pd.DataFrame(y))"
   ]
  },
  {
   "cell_type": "code",
   "execution_count": 29,
   "metadata": {},
   "outputs": [],
   "source": [
    "cat_cols = ['mes', 'primeira_quinzena', 'feriado', 'fim_semana']\n",
    "\n",
    "for col in cat_cols:\n",
    "    X[col] = X[col].astype('category')"
   ]
  },
  {
   "cell_type": "markdown",
   "metadata": {},
   "source": [
    "# Cross-validation (Timeseries)"
   ]
  },
  {
   "cell_type": "code",
   "execution_count": 30,
   "metadata": {},
   "outputs": [],
   "source": [
    "ts_cv = TimeSeriesSplit(n_splits=5)\n",
    "all_splits = list(ts_cv.split(X, y))"
   ]
  },
  {
   "cell_type": "code",
   "execution_count": 31,
   "metadata": {},
   "outputs": [
    {
     "data": {
      "text/plain": [
       "[(array([   0,    1,    2, ..., 1713, 1714, 1715]),\n",
       "  array([1716, 1717, 1718, ..., 3424, 3425, 3426])),\n",
       " (array([   0,    1,    2, ..., 3424, 3425, 3426]),\n",
       "  array([3427, 3428, 3429, ..., 5135, 5136, 5137])),\n",
       " (array([   0,    1,    2, ..., 5135, 5136, 5137]),\n",
       "  array([5138, 5139, 5140, ..., 6846, 6847, 6848])),\n",
       " (array([   0,    1,    2, ..., 6846, 6847, 6848]),\n",
       "  array([6849, 6850, 6851, ..., 8557, 8558, 8559])),\n",
       " (array([   0,    1,    2, ..., 8557, 8558, 8559]),\n",
       "  array([ 8560,  8561,  8562, ..., 10268, 10269, 10270]))]"
      ]
     },
     "execution_count": 31,
     "metadata": {},
     "output_type": "execute_result"
    }
   ],
   "source": [
    "all_splits"
   ]
  },
  {
   "cell_type": "markdown",
   "metadata": {},
   "source": [
    "# Modelagem\n"
   ]
  },
  {
   "cell_type": "markdown",
   "metadata": {},
   "source": [
    "## Gradient Boosting Model"
   ]
  },
  {
   "cell_type": "code",
   "execution_count": 32,
   "metadata": {},
   "outputs": [
    {
     "name": "stdout",
     "output_type": "stream",
     "text": [
      "Categorical features: ['mes', 'primeira_quinzena', 'feriado', 'fim_semana']\n"
     ]
    }
   ],
   "source": [
    "from sklearn.ensemble import HistGradientBoostingRegressor\n",
    "\n",
    "gbrt = HistGradientBoostingRegressor(categorical_features=\"from_dtype\", random_state=42)\n",
    "categorical_columns = X.columns[X.dtypes == \"category\"]\n",
    "print(\"Categorical features:\", categorical_columns.tolist())"
   ]
  },
  {
   "cell_type": "code",
   "execution_count": 33,
   "metadata": {},
   "outputs": [],
   "source": [
    "from sklearn.metrics import mean_absolute_error, mean_squared_error\n",
    "\n",
    "def avaliaModelo_GBR(X, y, splits = all_splits):\n",
    "\n",
    "    print(\"Cross-validation - GBR\")\n",
    "    print(\"---------------------------------------------------------------------------------\\n\")\n",
    "    mae_scores = np.array([])\n",
    "    rmse_scores = np.array([])\n",
    "\n",
    "    for i, (train_index, test_index) in enumerate(all_splits):\n",
    "\n",
    "        model = HistGradientBoostingRegressor(categorical_features=\"from_dtype\", random_state=42)\n",
    "        \n",
    "        tmp_y_test = np.array([])\n",
    "        tmp_prev = np.array([])\n",
    "\n",
    "        #Separando os dados (já normalizados)\n",
    "        X_train, X_test = X[train_index], X[test_index]\n",
    "        y_train, y_test = y[train_index], y[test_index]\n",
    "\n",
    "        print(f\"[{i+1}/5] X_train: {X_train.shape}, y_train: {y_train.shape}, X_test: {X_test.shape}, y_test: {y_test.shape}\")\n",
    "\n",
    "        model.fit(X_train, y_train)\n",
    "        predictions = model.predict(X_test)\n",
    "        \n",
    "\n",
    "        #desnormalizando os dados temporariamente\n",
    "\n",
    "        tmp_y_test = scaler_y.inverse_transform(y_test.reshape(-1, 1))\n",
    "        tmp_prev = scaler_y.inverse_transform(predictions.reshape(-1, 1))\n",
    "\n",
    "        #Calculando as métricas de MAE e RMSE\n",
    "\n",
    "        mae = mean_absolute_error(tmp_y_test, tmp_prev)\n",
    "        rmse = np.sqrt(mean_squared_error(tmp_y_test, tmp_prev))\n",
    "\n",
    "        print(f\"MAE: {mae} | RMSE: {rmse}\")\n",
    "        print(\"\\n\")\n",
    "\n",
    "        mae_scores = np.append(mae_scores, mae)\n",
    "        rmse_scores = np.append(rmse_scores, rmse)\n",
    "\n",
    "    print(\"RESULTADO FINAL DA AVALIAÇÃO\")\n",
    "    print(\"---------------------------------------------------------------------------------\")\n",
    "    print(\n",
    "    f\"MAE: {mae_scores.mean():.3f} +/- {mae_scores.std():.3f}\\n\"\n",
    "    f\"RMSE: {rmse_scores.mean():.3f} +/- {rmse_scores.std():.3f}\"\n",
    "    )\n"
   ]
  },
  {
   "cell_type": "code",
   "execution_count": 34,
   "metadata": {},
   "outputs": [
    {
     "name": "stdout",
     "output_type": "stream",
     "text": [
      "Cross-validation - GBR\n",
      "---------------------------------------------------------------------------------\n",
      "\n",
      "[1/5] X_train: (1716, 12), y_train: (1716,), X_test: (1711, 12), y_test: (1711,)\n",
      "MAE: 0.32295892358272715 | RMSE: 0.6324196413469126\n",
      "\n",
      "\n",
      "[2/5] X_train: (3427, 12), y_train: (3427,), X_test: (1711, 12), y_test: (1711,)\n",
      "MAE: 0.2676292196786708 | RMSE: 0.5206069151480549\n",
      "\n",
      "\n",
      "[3/5] X_train: (5138, 12), y_train: (5138,), X_test: (1711, 12), y_test: (1711,)\n",
      "MAE: 0.2903534699764067 | RMSE: 0.6511521194630381\n",
      "\n",
      "\n",
      "[4/5] X_train: (6849, 12), y_train: (6849,), X_test: (1711, 12), y_test: (1711,)\n",
      "MAE: 0.650587187615871 | RMSE: 2.9578345469536815\n",
      "\n",
      "\n",
      "[5/5] X_train: (8560, 12), y_train: (8560,), X_test: (1711, 12), y_test: (1711,)\n",
      "MAE: 0.18054885692255598 | RMSE: 0.42197415318561377\n",
      "\n",
      "\n",
      "RESULTADO FINAL DA AVALIAÇÃO\n",
      "---------------------------------------------------------------------------------\n",
      "MAE: 0.342 +/- 0.161\n",
      "RMSE: 1.037 +/- 0.964\n"
     ]
    }
   ],
   "source": [
    "avaliaModelo_GBR(X.values, y.ravel(), splits = all_splits)"
   ]
  },
  {
   "cell_type": "markdown",
   "metadata": {},
   "source": [
    "## eTS"
   ]
  },
  {
   "cell_type": "code",
   "execution_count": 35,
   "metadata": {},
   "outputs": [],
   "source": [
    "from sklearn.metrics import mean_absolute_error, mean_squared_error\n",
    "\n",
    "def avaliaModelo_eTS(X, y, splits = all_splits):\n",
    "\n",
    "    print(\"Cross-validation - eTS\")\n",
    "    print(\"---------------------------------------------------------------------------------\\n\")\n",
    "    mae_scores = np.array([])\n",
    "    rmse_scores = np.array([])\n",
    "\n",
    "    for i, (train_index, test_index) in enumerate(all_splits):\n",
    "\n",
    "        #Chamando a função a cada iteração pq a função predict dá append no array sem zerar antes\n",
    "        from eTS import eTS\n",
    "        model = eTS()\n",
    "        \n",
    "        tmp_y_test = np.array([])\n",
    "        tmp_prev = np.array([])\n",
    "        OutputTraining = np.array([])\n",
    "        Rules = np.array([])\n",
    "        OutputTest = np.array([])\n",
    "\n",
    "        #Separando os dados (já normalizados)\n",
    "        X_train, X_test = X[train_index], X[test_index]\n",
    "        y_train, y_test = y[train_index], y[test_index]\n",
    "\n",
    "        print(f\"[{i+1}/5] X_train: {X_train.shape}, y_train: {y_train.shape}, X_test: {X_test.shape}, y_test: {y_test.shape}\")\n",
    "\n",
    "        OutputTraining, Rules = model.fit(X_train, y_train)\n",
    "        OutputTest = model.predict(X_test)\n",
    "        \n",
    "\n",
    "        #desnormalizando os dados temporariamente\n",
    "\n",
    "        tmp_y_test = scaler_y.inverse_transform(y_test.reshape(-1, 1))\n",
    "        tmp_prev = scaler_y.inverse_transform(OutputTest.reshape(-1, 1))\n",
    "\n",
    "        #Calculando as métricas de MAE e RMSE\n",
    "\n",
    "        mae = mean_absolute_error(tmp_y_test, tmp_prev)\n",
    "        rmse = np.sqrt(mean_squared_error(tmp_y_test, tmp_prev))\n",
    "\n",
    "        print(f\"MAE: {mae} | RMSE: {rmse}\")\n",
    "        print(\"\\n\")\n",
    "\n",
    "        mae_scores = np.append(mae_scores, mae)\n",
    "        rmse_scores = np.append(rmse_scores, rmse)\n",
    "\n",
    "    print(\"RESULTADO FINAL DA AVALIAÇÃO\")\n",
    "    print(\"---------------------------------------------------------------------------------\")\n",
    "    print(\n",
    "    f\"MAE: {mae_scores.mean():.3f} +/- {mae_scores.std():.3f}\\n\"\n",
    "    f\"RMSE: {rmse_scores.mean():.3f} +/- {rmse_scores.std():.3f}\"\n",
    "    )\n"
   ]
  },
  {
   "cell_type": "code",
   "execution_count": 36,
   "metadata": {},
   "outputs": [
    {
     "name": "stdout",
     "output_type": "stream",
     "text": [
      "Cross-validation - eTS\n",
      "---------------------------------------------------------------------------------\n",
      "\n",
      "[1/5] X_train: (1716, 12), y_train: (1716, 1), X_test: (1711, 12), y_test: (1711, 1)\n",
      "MAE: 0.3801168734667584 | RMSE: 0.6124043612948069\n",
      "\n",
      "\n",
      "[2/5] X_train: (3427, 12), y_train: (3427, 1), X_test: (1711, 12), y_test: (1711, 1)\n",
      "MAE: 0.33684965883939033 | RMSE: 0.670318152336903\n",
      "\n",
      "\n",
      "[3/5] X_train: (5138, 12), y_train: (5138, 1), X_test: (1711, 12), y_test: (1711, 1)\n",
      "MAE: 0.39617900532783495 | RMSE: 0.7780786305559725\n",
      "\n",
      "\n",
      "[4/5] X_train: (6849, 12), y_train: (6849, 1), X_test: (1711, 12), y_test: (1711, 1)\n",
      "MAE: 0.43880689257243727 | RMSE: 1.0665782756677618\n",
      "\n",
      "\n",
      "[5/5] X_train: (8560, 12), y_train: (8560, 1), X_test: (1711, 12), y_test: (1711, 1)\n",
      "MAE: 0.34332335415384 | RMSE: 0.6513461899198593\n",
      "\n",
      "\n",
      "RESULTADO FINAL DA AVALIAÇÃO\n",
      "---------------------------------------------------------------------------------\n",
      "MAE: 0.379 +/- 0.037\n",
      "RMSE: 0.756 +/- 0.165\n"
     ]
    }
   ],
   "source": [
    "avaliaModelo_eTS(X.values, y, splits = all_splits)"
   ]
  },
  {
   "cell_type": "markdown",
   "metadata": {},
   "source": [
    "## Simpl_eTS"
   ]
  },
  {
   "cell_type": "code",
   "execution_count": 37,
   "metadata": {},
   "outputs": [],
   "source": [
    "def avaliaModelo_Simpl_eTS(X, y, splits = all_splits):\n",
    "\n",
    "    print(\"Cross-validation - Simpl_eTS\")\n",
    "    print(\"---------------------------------------------------------------------------------\\n\")\n",
    "    mae_scores = np.array([])\n",
    "    rmse_scores = np.array([])\n",
    "\n",
    "    for i, (train_index, test_index) in enumerate(all_splits):\n",
    "\n",
    "        #Chamando a função a cada iteração pq a função predict dá append no array sem zerar antes\n",
    "        from Simpl_eTS import Simpl_eTS\n",
    "        model = Simpl_eTS()\n",
    "        \n",
    "        tmp_y_test = np.array([])\n",
    "        tmp_prev = np.array([])\n",
    "        OutputTraining = np.array([])\n",
    "        Rules = np.array([])\n",
    "        OutputTest = np.array([])\n",
    "\n",
    "        #Separando os dados (já normalizados)\n",
    "        X_train, X_test = X[train_index], X[test_index]\n",
    "        y_train, y_test = y[train_index], y[test_index]\n",
    "\n",
    "        print(f\"[{i+1}/5] X_train: {X_train.shape}, y_train: {y_train.shape}, X_test: {X_test.shape}, y_test: {y_test.shape}\")\n",
    "\n",
    "        OutputTraining, Rules = model.fit(X_train, y_train)\n",
    "        OutputTest = model.predict(X_test)\n",
    "        \n",
    "\n",
    "        #desnormalizando os dados temporariamente\n",
    "\n",
    "        tmp_y_test = scaler_y.inverse_transform(y_test.reshape(-1, 1))\n",
    "        tmp_prev = scaler_y.inverse_transform(OutputTest.reshape(-1, 1))\n",
    "\n",
    "        #Calculando as métricas de MAE e RMSE\n",
    "\n",
    "        mae = mean_absolute_error(tmp_y_test, tmp_prev)\n",
    "        rmse = np.sqrt(mean_squared_error(tmp_y_test, tmp_prev))\n",
    "\n",
    "        print(f\"MAE: {mae} | RMSE: {rmse}\")\n",
    "        print(\"\\n\")\n",
    "\n",
    "        mae_scores = np.append(mae_scores, mae)\n",
    "        rmse_scores = np.append(rmse_scores, rmse)\n",
    "\n",
    "    print(\"RESULTADO FINAL DA AVALIAÇÃO\")\n",
    "    print(\"---------------------------------------------------------------------------------\")\n",
    "    print(\n",
    "    f\"MAE: {mae_scores.mean():.3f} +/- {mae_scores.std():.3f}\\n\"\n",
    "    f\"RMSE: {rmse_scores.mean():.3f} +/- {rmse_scores.std():.3f}\"\n",
    "    )"
   ]
  },
  {
   "cell_type": "code",
   "execution_count": 38,
   "metadata": {},
   "outputs": [
    {
     "name": "stdout",
     "output_type": "stream",
     "text": [
      "Cross-validation - Simpl_eTS\n",
      "---------------------------------------------------------------------------------\n",
      "\n",
      "[1/5] X_train: (1716, 12), y_train: (1716, 1), X_test: (1711, 12), y_test: (1711, 1)\n",
      "MAE: 0.6825639631240574 | RMSE: 1.0562772546071006\n",
      "\n",
      "\n",
      "[2/5] X_train: (3427, 12), y_train: (3427, 1), X_test: (1711, 12), y_test: (1711, 1)\n",
      "MAE: 0.36509122992683074 | RMSE: 0.6440663168799289\n",
      "\n",
      "\n",
      "[3/5] X_train: (5138, 12), y_train: (5138, 1), X_test: (1711, 12), y_test: (1711, 1)\n",
      "MAE: 0.3781812702991797 | RMSE: 0.7229477705805197\n",
      "\n",
      "\n",
      "[4/5] X_train: (6849, 12), y_train: (6849, 1), X_test: (1711, 12), y_test: (1711, 1)\n",
      "MAE: 0.5803687326685356 | RMSE: 1.3912690180563967\n",
      "\n",
      "\n",
      "[5/5] X_train: (8560, 12), y_train: (8560, 1), X_test: (1711, 12), y_test: (1711, 1)\n",
      "MAE: 0.5303923228217456 | RMSE: 0.91570562939726\n",
      "\n",
      "\n",
      "RESULTADO FINAL DA AVALIAÇÃO\n",
      "---------------------------------------------------------------------------------\n",
      "MAE: 0.507 +/- 0.121\n",
      "RMSE: 0.946 +/- 0.265\n"
     ]
    }
   ],
   "source": [
    "avaliaModelo_Simpl_eTS(X.values, y, splits = all_splits)"
   ]
  },
  {
   "cell_type": "markdown",
   "metadata": {},
   "source": [
    "## exTS"
   ]
  },
  {
   "cell_type": "code",
   "execution_count": 39,
   "metadata": {},
   "outputs": [],
   "source": [
    "def avaliaModelo_exTS(X, y, splits = all_splits):\n",
    "\n",
    "    print(\"Cross-validation - exTS\")\n",
    "    print(\"---------------------------------------------------------------------------------\\n\")\n",
    "    mae_scores = np.array([])\n",
    "    rmse_scores = np.array([])\n",
    "\n",
    "    for i, (train_index, test_index) in enumerate(all_splits):\n",
    "\n",
    "        #Chamando a função a cada iteração pq a função predict dá append no array sem zerar antes\n",
    "        from exTS import exTS\n",
    "        model = exTS()\n",
    "        \n",
    "        tmp_y_test = np.array([])\n",
    "        tmp_prev = np.array([])\n",
    "        OutputTraining = np.array([])\n",
    "        Rules = np.array([])\n",
    "        OutputTest = np.array([])\n",
    "\n",
    "        #Separando os dados (já normalizados)\n",
    "        X_train, X_test = X[train_index], X[test_index]\n",
    "        y_train, y_test = y[train_index], y[test_index]\n",
    "\n",
    "        print(f\"[{i+1}/5] X_train: {X_train.shape}, y_train: {y_train.shape}, X_test: {X_test.shape}, y_test: {y_test.shape}\")\n",
    "\n",
    "        OutputTraining, Rules = model.fit(X_train, y_train)\n",
    "        OutputTest = model.predict(X_test)\n",
    "        \n",
    "\n",
    "        #desnormalizando os dados temporariamente\n",
    "\n",
    "        tmp_y_test = scaler_y.inverse_transform(y_test.reshape(-1, 1))\n",
    "        tmp_prev = scaler_y.inverse_transform(OutputTest.reshape(-1, 1))\n",
    "\n",
    "        #Calculando as métricas de MAE e RMSE\n",
    "\n",
    "        mae = mean_absolute_error(tmp_y_test, tmp_prev)\n",
    "        rmse = np.sqrt(mean_squared_error(tmp_y_test, tmp_prev))\n",
    "\n",
    "        print(f\"MAE: {mae} | RMSE: {rmse}\")\n",
    "        print(\"\\n\")\n",
    "\n",
    "        mae_scores = np.append(mae_scores, mae)\n",
    "        rmse_scores = np.append(rmse_scores, rmse)\n",
    "\n",
    "    print(\"RESULTADO FINAL DA AVALIAÇÃO\")\n",
    "    print(\"---------------------------------------------------------------------------------\")\n",
    "    print(\n",
    "    f\"MAE: {mae_scores.mean():.3f} +/- {mae_scores.std():.3f}\\n\"\n",
    "    f\"RMSE: {rmse_scores.mean():.3f} +/- {rmse_scores.std():.3f}\"\n",
    "    )"
   ]
  },
  {
   "cell_type": "code",
   "execution_count": 40,
   "metadata": {},
   "outputs": [
    {
     "name": "stdout",
     "output_type": "stream",
     "text": [
      "Cross-validation - exTS\n",
      "---------------------------------------------------------------------------------\n",
      "\n",
      "[1/5] X_train: (1716, 12), y_train: (1716, 1), X_test: (1711, 12), y_test: (1711, 1)\n",
      "MAE: 1.960944784241269 | RMSE: 2.5097038145972115\n",
      "\n",
      "\n",
      "[2/5] X_train: (3427, 12), y_train: (3427, 1), X_test: (1711, 12), y_test: (1711, 1)\n",
      "MAE: 0.3689643226400376 | RMSE: 0.6858175232122266\n",
      "\n",
      "\n",
      "[3/5] X_train: (5138, 12), y_train: (5138, 1), X_test: (1711, 12), y_test: (1711, 1)\n",
      "MAE: 0.5165108561945241 | RMSE: 1.070440594326642\n",
      "\n",
      "\n",
      "[4/5] X_train: (6849, 12), y_train: (6849, 1), X_test: (1711, 12), y_test: (1711, 1)\n",
      "MAE: 0.5785143468105615 | RMSE: 1.4086274796518043\n",
      "\n",
      "\n",
      "[5/5] X_train: (8560, 12), y_train: (8560, 1), X_test: (1711, 12), y_test: (1711, 1)\n",
      "MAE: 0.6440537484571429 | RMSE: 1.6232801730028308\n",
      "\n",
      "\n",
      "RESULTADO FINAL DA AVALIAÇÃO\n",
      "---------------------------------------------------------------------------------\n",
      "MAE: 0.814 +/- 0.581\n",
      "RMSE: 1.460 +/- 0.614\n"
     ]
    }
   ],
   "source": [
    "avaliaModelo_exTS(X.values, y, splits = all_splits)"
   ]
  },
  {
   "cell_type": "markdown",
   "metadata": {},
   "source": [
    "## eMG"
   ]
  },
  {
   "cell_type": "code",
   "execution_count": 41,
   "metadata": {},
   "outputs": [],
   "source": [
    "def avaliaModelo_eMG(X, y, splits = all_splits):\n",
    "\n",
    "    print(\"Cross-validation - eMG\")\n",
    "    print(\"---------------------------------------------------------------------------------\\n\")\n",
    "    mae_scores = np.array([])\n",
    "    rmse_scores = np.array([])\n",
    "\n",
    "    for i, (train_index, test_index) in enumerate(all_splits):\n",
    "\n",
    "        #Chamando a função a cada iteração pq a função predict dá append no array sem zerar antes\n",
    "        from eMG import eMG\n",
    "        model = eMG()\n",
    "        \n",
    "        tmp_y_test = np.array([])\n",
    "        tmp_prev = np.array([])\n",
    "        OutputTraining = np.array([])\n",
    "        Rules = np.array([])\n",
    "        OutputTest = np.array([])\n",
    "\n",
    "        #Separando os dados (já normalizados)\n",
    "        X_train, X_test = X[train_index], X[test_index]\n",
    "        y_train, y_test = y[train_index], y[test_index]\n",
    "\n",
    "        print(f\"[{i+1}/5] X_train: {X_train.shape}, y_train: {y_train.shape}, X_test: {X_test.shape}, y_test: {y_test.shape}\")\n",
    "\n",
    "        OutputTraining, Rules = model.fit(X_train, y_train)\n",
    "        OutputTest = model.predict(X_test)\n",
    "        \n",
    "\n",
    "        #desnormalizando os dados temporariamente\n",
    "\n",
    "        tmp_y_test = scaler_y.inverse_transform(y_test.reshape(-1, 1))\n",
    "        tmp_prev = scaler_y.inverse_transform(OutputTest.reshape(-1, 1))\n",
    "\n",
    "        #Calculando as métricas de MAE e RMSE\n",
    "\n",
    "        mae = mean_absolute_error(tmp_y_test, tmp_prev)\n",
    "        rmse = np.sqrt(mean_squared_error(tmp_y_test, tmp_prev))\n",
    "\n",
    "        print(f\"MAE: {mae} | RMSE: {rmse}\")\n",
    "        print(\"\\n\")\n",
    "\n",
    "        mae_scores = np.append(mae_scores, mae)\n",
    "        rmse_scores = np.append(rmse_scores, rmse)\n",
    "\n",
    "    print(\"RESULTADO FINAL DA AVALIAÇÃO\")\n",
    "    print(\"---------------------------------------------------------------------------------\")\n",
    "    print(\n",
    "    f\"MAE: {mae_scores.mean():.3f} +/- {mae_scores.std():.3f}\\n\"\n",
    "    f\"RMSE: {rmse_scores.mean():.3f} +/- {rmse_scores.std():.3f}\"\n",
    "    )"
   ]
  },
  {
   "cell_type": "code",
   "execution_count": 42,
   "metadata": {},
   "outputs": [
    {
     "name": "stdout",
     "output_type": "stream",
     "text": [
      "Cross-validation - eMG\n",
      "---------------------------------------------------------------------------------\n",
      "\n",
      "[1/5] X_train: (1716, 12), y_train: (1716, 1), X_test: (1711, 12), y_test: (1711, 1)\n",
      "MAE: 0.6748641086075853 | RMSE: 1.0018437844224195\n",
      "\n",
      "\n",
      "[2/5] X_train: (3427, 12), y_train: (3427, 1), X_test: (1711, 12), y_test: (1711, 1)\n",
      "MAE: 0.8298112518279915 | RMSE: 1.3111717332802855\n",
      "\n",
      "\n",
      "[3/5] X_train: (5138, 12), y_train: (5138, 1), X_test: (1711, 12), y_test: (1711, 1)\n",
      "MAE: 0.8008209173389094 | RMSE: 1.338752392108105\n",
      "\n",
      "\n",
      "[4/5] X_train: (6849, 12), y_train: (6849, 1), X_test: (1711, 12), y_test: (1711, 1)\n",
      "MAE: 1.4924836987083119 | RMSE: 4.753329764153785\n",
      "\n",
      "\n",
      "[5/5] X_train: (8560, 12), y_train: (8560, 1), X_test: (1711, 12), y_test: (1711, 1)\n"
     ]
    }
   ],
   "source": [
    "avaliaModelo_eMG(X.values, y, splits = all_splits)"
   ]
  },
  {
   "cell_type": "markdown",
   "metadata": {},
   "source": [
    "## ePL+"
   ]
  },
  {
   "cell_type": "code",
   "execution_count": null,
   "metadata": {},
   "outputs": [],
   "source": [
    "def avaliaModelo_ePLplus(X, y, splits = all_splits):\n",
    "\n",
    "    print(\"Cross-validation - ePL+\")\n",
    "    print(\"---------------------------------------------------------------------------------\\n\")\n",
    "    mae_scores = np.array([])\n",
    "    rmse_scores = np.array([])\n",
    "\n",
    "    for i, (train_index, test_index) in enumerate(all_splits):\n",
    "\n",
    "        #Chamando a função a cada iteração pq a função predict dá append no array sem zerar antes\n",
    "        from ePL_plus import ePL_plus\n",
    "        model = ePL_plus()\n",
    "        \n",
    "        tmp_y_test = np.array([])\n",
    "        tmp_prev = np.array([])\n",
    "        OutputTraining = np.array([])\n",
    "        Rules = np.array([])\n",
    "        OutputTest = np.array([])\n",
    "\n",
    "        #Separando os dados (já normalizados)\n",
    "        X_train, X_test = X[train_index], X[test_index]\n",
    "        y_train, y_test = y[train_index], y[test_index]\n",
    "\n",
    "        print(f\"[{i+1}/5] X_train: {X_train.shape}, y_train: {y_train.shape}, X_test: {X_test.shape}, y_test: {y_test.shape}\")\n",
    "\n",
    "        OutputTraining, Rules = model.fit(X_train, y_train)\n",
    "        OutputTest = model.predict(X_test)\n",
    "        \n",
    "\n",
    "        #desnormalizando os dados temporariamente\n",
    "\n",
    "        tmp_y_test = scaler_y.inverse_transform(y_test.reshape(-1, 1))\n",
    "        tmp_prev = scaler_y.inverse_transform(OutputTest.reshape(-1, 1))\n",
    "\n",
    "        #Calculando as métricas de MAE e RMSE\n",
    "\n",
    "        mae = mean_absolute_error(tmp_y_test, tmp_prev)\n",
    "        rmse = np.sqrt(mean_squared_error(tmp_y_test, tmp_prev))\n",
    "\n",
    "        print(f\"MAE: {mae} | RMSE: {rmse}\")\n",
    "        print(\"\\n\")\n",
    "\n",
    "        mae_scores = np.append(mae_scores, mae)\n",
    "        rmse_scores = np.append(rmse_scores, rmse)\n",
    "\n",
    "    print(\"RESULTADO FINAL DA AVALIAÇÃO\")\n",
    "    print(\"---------------------------------------------------------------------------------\")\n",
    "    print(\n",
    "    f\"MAE: {mae_scores.mean():.3f} +/- {mae_scores.std():.3f}\\n\"\n",
    "    f\"RMSE: {rmse_scores.mean():.3f} +/- {rmse_scores.std():.3f}\"\n",
    "    )"
   ]
  },
  {
   "cell_type": "code",
   "execution_count": null,
   "metadata": {},
   "outputs": [
    {
     "name": "stdout",
     "output_type": "stream",
     "text": [
      "Cross-validation - ePL+\n",
      "---------------------------------------------------------------------------------\n",
      "\n",
      "[1/5] X_train: (2175, 9), y_train: (2175, 1), X_test: (2173, 9), y_test: (2173, 1)\n",
      "MAE: 4.476199927685411 | RMSE: 5.960284365400384\n",
      "\n",
      "\n",
      "[2/5] X_train: (4348, 9), y_train: (4348, 1), X_test: (2173, 9), y_test: (2173, 1)\n",
      "MAE: 2.926509703011955 | RMSE: 3.8262618343422528\n",
      "\n",
      "\n",
      "[3/5] X_train: (6521, 9), y_train: (6521, 1), X_test: (2173, 9), y_test: (2173, 1)\n",
      "MAE: 6.446553854642832 | RMSE: 8.514242599109009\n",
      "\n",
      "\n",
      "[4/5] X_train: (8694, 9), y_train: (8694, 1), X_test: (2173, 9), y_test: (2173, 1)\n",
      "MAE: 3.1543957381500194 | RMSE: 4.061888619096644\n",
      "\n",
      "\n",
      "[5/5] X_train: (10867, 9), y_train: (10867, 1), X_test: (2173, 9), y_test: (2173, 1)\n",
      "MAE: 1.5013914935197874 | RMSE: 1.9759981189786\n",
      "\n",
      "\n",
      "RESULTADO FINAL DA AVALIAÇÃO\n",
      "---------------------------------------------------------------------------------\n",
      "MAE: 3.701 +/- 1.666\n",
      "RMSE: 4.868 +/- 2.218\n"
     ]
    }
   ],
   "source": [
    "avaliaModelo_ePLplus(X.values, y, splits = all_splits)"
   ]
  },
  {
   "cell_type": "markdown",
   "metadata": {},
   "source": [
    "## ePL_KRLS_DISCO\n"
   ]
  },
  {
   "cell_type": "code",
   "execution_count": null,
   "metadata": {},
   "outputs": [],
   "source": [
    "lower_rmse = np.inf\n",
    "for param in grid:\n",
    "    \n",
    "    #print(param)\n",
    "\n",
    "    # Optimize parameters\n",
    "    model = ePL_KRLS_DISCO(**param)\n",
    "    model.fit(X_train,y_train)\n",
    "    # Make predictions\n",
    "    y_pred = model.predict(X_val)\n",
    "    \n",
    "    \n",
    "    # Calculating the error metrics\n",
    "    # Compute the Root Mean Square Error\n",
    "    RMSE = math.sqrt(mean_squared_error(y_val, y_pred))\n",
    "    \n",
    "    if RMSE < lower_rmse:\n",
    "        lower_rmse = RMSE\n",
    "        best_ePL_KRLS_DISCO_params = param\n",
    "\n",
    "# Optimized parameters\n",
    "model = ePL_KRLS_DISCO(**best_ePL_KRLS_DISCO_params)\n",
    "OutputTraining, Rules = model.fit(X_train,y_train)\n",
    "# Make predictions\n",
    "y_pred = model.predict(X_test)\n",
    "\n",
    "# Save predictions to dataframe\n",
    "predictions[f'{Model_Name}'] = y_pred\n",
    "\n",
    "# Model name\n",
    "print(f'\\nResults for {Model_Name}: \\n')\n",
    "\n",
    "# Calculating the error metrics\n",
    "# Compute the Root Mean Square Error\n",
    "RMSE = math.sqrt(mean_squared_error(y_test, y_pred))\n",
    "print(\"\\nRMSE:\", RMSE)\n",
    "# Compute the Normalized Root Mean Square Error\n",
    "NRMSE = RegressionMetric(y_test, y_pred).normalized_root_mean_square_error()\n",
    "print(\"NRMSE:\", NRMSE)\n",
    "# Compute the Non-Dimensional Error Index\n",
    "NDEI= RMSE/st.stdev(np.asfarray(y_test.flatten()))\n",
    "print(\"NDEI:\", NDEI)\n",
    "# Compute the Mean Absolute Error\n",
    "MAE = mean_absolute_error(y_test, y_pred)\n",
    "print(\"MAE:\", MAE)\n",
    "# Compute the Mean Absolute Percentage Error\n",
    "MAPE = mean_absolute_percentage_error(y_test, y_pred)\n",
    "print(\"MAPE:\", MAPE)\n",
    "# Number of rules\n",
    "print(\"Rules:\", Rules[-1])\n",
    "   \n",
    "ePL_KRLS_DISCO_ = f'{Model_Name} & {NRMSE:.2f} & {NDEI:.2f} & {MAPE:.2f} & {Rules[-1]}'\n",
    "\n",
    "#print(f'\\n{best_ePL_KRLS_DISCO_params}')\n",
    "\n",
    "# Store results to dataframe\n",
    "newrow = pd.DataFrame([[Model_Name, NRMSE, NDEI, MAPE, Rules[-1], best_ePL_KRLS_DISCO_params]], columns=columns)\n",
    "results = pd.concat([results, newrow], ignore_index=True)"
   ]
  },
  {
   "cell_type": "code",
   "execution_count": null,
   "metadata": {},
   "outputs": [],
   "source": [
    "def avaliaModelo_ePL_KRLS_DISCO(X, y, splits = all_splits):\n",
    "\n",
    "    print(\"Cross-validation - ePL_KRLS_DISCO\")\n",
    "    print(\"---------------------------------------------------------------------------------\\n\")\n",
    "    mae_scores = np.array([])\n",
    "    rmse_scores = np.array([])\n",
    "\n",
    "    for i, (train_index, test_index) in enumerate(all_splits):\n",
    "\n",
    "        #Chamando a função a cada iteração pq a função predict dá append no array sem zerar antes\n",
    "        from ePL_KRLS_DISCO import ePL_KRLS_DISCO\n",
    "        model = ePL_KRLS_DISCO()\n",
    "        \n",
    "        tmp_y_test = np.array([])\n",
    "        tmp_prev = np.array([])\n",
    "        OutputTraining = np.array([])\n",
    "        Rules = np.array([])\n",
    "        OutputTest = np.array([])\n",
    "\n",
    "        #Separando os dados (já normalizados)\n",
    "        X_train, X_test = X[train_index], X[test_index]\n",
    "        y_train, y_test = y[train_index], y[test_index]\n",
    "\n",
    "        print(f\"[{i+1}/5] X_train: {X_train.shape}, y_train: {y_train.shape}, X_test: {X_test.shape}, y_test: {y_test.shape}\")\n",
    "\n",
    "        OutputTraining, Rules = model.fit(X_train, y_train)\n",
    "        OutputTest = model.predict(X_test)\n",
    "        \n",
    "\n",
    "        #desnormalizando os dados temporariamente\n",
    "\n",
    "        tmp_y_test = scaler_y.inverse_transform(y_test.reshape(-1, 1))\n",
    "        tmp_prev = scaler_y.inverse_transform(OutputTest.reshape(-1, 1))\n",
    "\n",
    "        #Calculando as métricas de MAE e RMSE\n",
    "\n",
    "        mae = mean_absolute_error(tmp_y_test, tmp_prev)\n",
    "        rmse = np.sqrt(mean_squared_error(tmp_y_test, tmp_prev))\n",
    "\n",
    "        print(f\"MAE: {mae} | RMSE: {rmse}\")\n",
    "        print(\"\\n\")\n",
    "\n",
    "        mae_scores = np.append(mae_scores, mae)\n",
    "        rmse_scores = np.append(rmse_scores, rmse)\n",
    "\n",
    "    print(\"RESULTADO FINAL DA AVALIAÇÃO\")\n",
    "    print(\"---------------------------------------------------------------------------------\")\n",
    "    print(\n",
    "    f\"MAE: {mae_scores.mean():.3f} +/- {mae_scores.std():.3f}\\n\"\n",
    "    f\"RMSE: {rmse_scores.mean():.3f} +/- {rmse_scores.std():.3f}\"\n",
    "    )"
   ]
  },
  {
   "cell_type": "code",
   "execution_count": null,
   "metadata": {},
   "outputs": [
    {
     "name": "stdout",
     "output_type": "stream",
     "text": [
      "Cross-validation - ePL_KRLS_DISCO\n",
      "---------------------------------------------------------------------------------\n",
      "\n",
      "[1/5] X_train: (2175, 9), y_train: (2175, 1), X_test: (2173, 9), y_test: (2173, 1)\n",
      "MAE: 2.2255082008593807 | RMSE: 3.5015844969237717\n",
      "\n",
      "\n",
      "[2/5] X_train: (4348, 9), y_train: (4348, 1), X_test: (2173, 9), y_test: (2173, 1)\n",
      "MAE: 4.764533981365316 | RMSE: 7.073927122621309\n",
      "\n",
      "\n",
      "[3/5] X_train: (6521, 9), y_train: (6521, 1), X_test: (2173, 9), y_test: (2173, 1)\n",
      "MAE: 7.677546672441963 | RMSE: 12.398542740382728\n",
      "\n",
      "\n",
      "[4/5] X_train: (8694, 9), y_train: (8694, 1), X_test: (2173, 9), y_test: (2173, 1)\n",
      "MAE: 11.475212316001109 | RMSE: 18.698495182771126\n",
      "\n",
      "\n",
      "[5/5] X_train: (10867, 9), y_train: (10867, 1), X_test: (2173, 9), y_test: (2173, 1)\n",
      "MAE: 14.172348050634499 | RMSE: 23.62254371733754\n",
      "\n",
      "\n",
      "RESULTADO FINAL DA AVALIAÇÃO\n",
      "---------------------------------------------------------------------------------\n",
      "MAE: 8.063 +/- 4.338\n",
      "RMSE: 13.059 +/- 7.362\n"
     ]
    }
   ],
   "source": [
    "avaliaModelo_ePL_KRLS_DISCO(X.values, y, splits = all_splits)"
   ]
  },
  {
   "cell_type": "code",
   "execution_count": 16,
   "metadata": {},
   "outputs": [],
   "source": [
    "param_grid = {\n",
    "    \n",
    "    'alpha': [0.05, 0.1],\n",
    "    'beta' :[0.01, 0.1, 0.25],\n",
    "    'lambda1' : [0.0000001, 0.001],\n",
    "    'sigma' :[0.5, 1, 10, 50],\n",
    "    'e_utility': [0.03, 0.05]\n",
    "}"
   ]
  },
  {
   "cell_type": "code",
   "execution_count": 28,
   "metadata": {},
   "outputs": [],
   "source": [
    "(train_index, test_index) = all_splits[-1]"
   ]
  },
  {
   "cell_type": "code",
   "execution_count": 29,
   "metadata": {},
   "outputs": [],
   "source": [
    "\n",
    "\n",
    "X_train, X_test = X.values[train_index], X.values[test_index]\n",
    "y_train, y_test = y[train_index], y[test_index]"
   ]
  },
  {
   "cell_type": "code",
   "execution_count": 30,
   "metadata": {},
   "outputs": [],
   "source": [
    "from sklearn.model_selection import GridSearchCV\n",
    "from ePL_KRLS_DISCO import ePL_KRLS_DISCO\n",
    "\n",
    "model = ePL_KRLS_DISCO()\n",
    "ts = GridSearchCV(model, parameters)\n",
    "\n"
   ]
  },
  {
   "cell_type": "code",
   "execution_count": 13,
   "metadata": {},
   "outputs": [
    {
     "data": {
      "text/plain": [
       "dict_values([[0.05, 0.1], [0.01, 0.1, 0.25], [1e-07, 0.001], [0.5, 1, 10, 50], [0.03, 0.05]])"
      ]
     },
     "execution_count": 13,
     "metadata": {},
     "output_type": "execute_result"
    }
   ],
   "source": [
    "param_grid.values()"
   ]
  },
  {
   "cell_type": "code",
   "execution_count": 59,
   "metadata": {},
   "outputs": [
    {
     "data": {
      "text/plain": [
       "<itertools.product at 0x2d2b67ecc00>"
      ]
     },
     "execution_count": 59,
     "metadata": {},
     "output_type": "execute_result"
    }
   ],
   "source": [
    "product(*param_grid.values())"
   ]
  },
  {
   "cell_type": "code",
   "execution_count": 63,
   "metadata": {},
   "outputs": [],
   "source": [
    "from itertools import product\n",
    "\n",
    "param_names = list(param_grid.keys())\n",
    "param_combinations = list(product(*param_grid.values()))"
   ]
  },
  {
   "cell_type": "code",
   "execution_count": 14,
   "metadata": {},
   "outputs": [],
   "source": [
    "from sklearn.model_selection import ParameterGrid\n",
    "grid = ParameterGrid(param_grid)"
   ]
  },
  {
   "cell_type": "code",
   "execution_count": 15,
   "metadata": {},
   "outputs": [
    {
     "data": {
      "text/plain": [
       "<sklearn.model_selection._search.ParameterGrid at 0x1e1268f63d0>"
      ]
     },
     "execution_count": 15,
     "metadata": {},
     "output_type": "execute_result"
    }
   ],
   "source": [
    "grid"
   ]
  },
  {
   "cell_type": "code",
   "execution_count": 21,
   "metadata": {},
   "outputs": [
    {
     "name": "stdout",
     "output_type": "stream",
     "text": [
      "Iniciando Grid Search - ePL_KRLS_DISCO\n",
      "---------------------------------------------------------------------------------\n",
      "\n",
      "Testando combinação 1/96\n",
      "Parâmetros: {'alpha': 0.05, 'beta': 0.01, 'lambda1': 1e-07, 'sigma': 0.5, 'e_utility': 0.03}\n",
      "Resultado: MAE = 4.147, RMSE = 7.654\n",
      "\n",
      "Testando combinação 2/96\n",
      "Parâmetros: {'alpha': 0.05, 'beta': 0.01, 'lambda1': 1e-07, 'sigma': 0.5, 'e_utility': 0.05}\n",
      "Resultado: MAE = 4.273, RMSE = 7.249\n",
      "\n",
      "Testando combinação 3/96\n",
      "Parâmetros: {'alpha': 0.05, 'beta': 0.01, 'lambda1': 1e-07, 'sigma': 1, 'e_utility': 0.03}\n"
     ]
    },
    {
     "name": "stderr",
     "output_type": "stream",
     "text": [
      "d:\\Dissertação\\dissertacao_pgmc\\Cadernos\\..\\Modelo\\ePL_KRLS_DISCO.py:158: FutureWarning: Setting an item of incompatible dtype is deprecated and will raise in a future error of pandas. Value '0.7286541887635238' has dtype incompatible with int64, please explicitly cast to a compatible dtype first.\n",
      "  self.parameters.at[i, 'nu'] = math.sqrt((self.parameters.loc[i, 'nu'])**2 + (((np.linalg.norm(x - self.parameters.loc[i, 'Center']))**2 - (self.parameters.loc[i, 'nu'])**2)/self.parameters.loc[i, 'NumObservations']) + ((self.parameters.loc[i, 'NumObservations'] - 1) * ((np.linalg.norm(self.parameters.loc[i, 'Center'] - self.parameters.loc[i, 'OldCenter']))**2))/self.parameters.loc[i, 'NumObservations'])\n",
      "d:\\Dissertação\\dissertacao_pgmc\\Cadernos\\..\\Modelo\\ePL_KRLS_DISCO.py:158: FutureWarning: Setting an item of incompatible dtype is deprecated and will raise in a future error of pandas. Value '0.7286541887635238' has dtype incompatible with int64, please explicitly cast to a compatible dtype first.\n",
      "  self.parameters.at[i, 'nu'] = math.sqrt((self.parameters.loc[i, 'nu'])**2 + (((np.linalg.norm(x - self.parameters.loc[i, 'Center']))**2 - (self.parameters.loc[i, 'nu'])**2)/self.parameters.loc[i, 'NumObservations']) + ((self.parameters.loc[i, 'NumObservations'] - 1) * ((np.linalg.norm(self.parameters.loc[i, 'Center'] - self.parameters.loc[i, 'OldCenter']))**2))/self.parameters.loc[i, 'NumObservations'])\n",
      "d:\\Dissertação\\dissertacao_pgmc\\Cadernos\\..\\Modelo\\ePL_KRLS_DISCO.py:158: FutureWarning: Setting an item of incompatible dtype is deprecated and will raise in a future error of pandas. Value '0.7286541887635238' has dtype incompatible with int64, please explicitly cast to a compatible dtype first.\n",
      "  self.parameters.at[i, 'nu'] = math.sqrt((self.parameters.loc[i, 'nu'])**2 + (((np.linalg.norm(x - self.parameters.loc[i, 'Center']))**2 - (self.parameters.loc[i, 'nu'])**2)/self.parameters.loc[i, 'NumObservations']) + ((self.parameters.loc[i, 'NumObservations'] - 1) * ((np.linalg.norm(self.parameters.loc[i, 'Center'] - self.parameters.loc[i, 'OldCenter']))**2))/self.parameters.loc[i, 'NumObservations'])\n",
      "d:\\Dissertação\\dissertacao_pgmc\\Cadernos\\..\\Modelo\\ePL_KRLS_DISCO.py:158: FutureWarning: Setting an item of incompatible dtype is deprecated and will raise in a future error of pandas. Value '0.7286541887635238' has dtype incompatible with int64, please explicitly cast to a compatible dtype first.\n",
      "  self.parameters.at[i, 'nu'] = math.sqrt((self.parameters.loc[i, 'nu'])**2 + (((np.linalg.norm(x - self.parameters.loc[i, 'Center']))**2 - (self.parameters.loc[i, 'nu'])**2)/self.parameters.loc[i, 'NumObservations']) + ((self.parameters.loc[i, 'NumObservations'] - 1) * ((np.linalg.norm(self.parameters.loc[i, 'Center'] - self.parameters.loc[i, 'OldCenter']))**2))/self.parameters.loc[i, 'NumObservations'])\n",
      "d:\\Dissertação\\dissertacao_pgmc\\Cadernos\\..\\Modelo\\ePL_KRLS_DISCO.py:158: FutureWarning: Setting an item of incompatible dtype is deprecated and will raise in a future error of pandas. Value '0.7286541887635238' has dtype incompatible with int64, please explicitly cast to a compatible dtype first.\n",
      "  self.parameters.at[i, 'nu'] = math.sqrt((self.parameters.loc[i, 'nu'])**2 + (((np.linalg.norm(x - self.parameters.loc[i, 'Center']))**2 - (self.parameters.loc[i, 'nu'])**2)/self.parameters.loc[i, 'NumObservations']) + ((self.parameters.loc[i, 'NumObservations'] - 1) * ((np.linalg.norm(self.parameters.loc[i, 'Center'] - self.parameters.loc[i, 'OldCenter']))**2))/self.parameters.loc[i, 'NumObservations'])\n"
     ]
    },
    {
     "name": "stdout",
     "output_type": "stream",
     "text": [
      "Resultado: MAE = 9.537, RMSE = 16.090\n",
      "\n",
      "Testando combinação 4/96\n",
      "Parâmetros: {'alpha': 0.05, 'beta': 0.01, 'lambda1': 1e-07, 'sigma': 1, 'e_utility': 0.05}\n"
     ]
    },
    {
     "name": "stderr",
     "output_type": "stream",
     "text": [
      "d:\\Dissertação\\dissertacao_pgmc\\Cadernos\\..\\Modelo\\ePL_KRLS_DISCO.py:158: FutureWarning: Setting an item of incompatible dtype is deprecated and will raise in a future error of pandas. Value '0.7286541887635238' has dtype incompatible with int64, please explicitly cast to a compatible dtype first.\n",
      "  self.parameters.at[i, 'nu'] = math.sqrt((self.parameters.loc[i, 'nu'])**2 + (((np.linalg.norm(x - self.parameters.loc[i, 'Center']))**2 - (self.parameters.loc[i, 'nu'])**2)/self.parameters.loc[i, 'NumObservations']) + ((self.parameters.loc[i, 'NumObservations'] - 1) * ((np.linalg.norm(self.parameters.loc[i, 'Center'] - self.parameters.loc[i, 'OldCenter']))**2))/self.parameters.loc[i, 'NumObservations'])\n",
      "d:\\Dissertação\\dissertacao_pgmc\\Cadernos\\..\\Modelo\\ePL_KRLS_DISCO.py:158: FutureWarning: Setting an item of incompatible dtype is deprecated and will raise in a future error of pandas. Value '0.7286541887635238' has dtype incompatible with int64, please explicitly cast to a compatible dtype first.\n",
      "  self.parameters.at[i, 'nu'] = math.sqrt((self.parameters.loc[i, 'nu'])**2 + (((np.linalg.norm(x - self.parameters.loc[i, 'Center']))**2 - (self.parameters.loc[i, 'nu'])**2)/self.parameters.loc[i, 'NumObservations']) + ((self.parameters.loc[i, 'NumObservations'] - 1) * ((np.linalg.norm(self.parameters.loc[i, 'Center'] - self.parameters.loc[i, 'OldCenter']))**2))/self.parameters.loc[i, 'NumObservations'])\n",
      "d:\\Dissertação\\dissertacao_pgmc\\Cadernos\\..\\Modelo\\ePL_KRLS_DISCO.py:158: FutureWarning: Setting an item of incompatible dtype is deprecated and will raise in a future error of pandas. Value '0.7286541887635238' has dtype incompatible with int64, please explicitly cast to a compatible dtype first.\n",
      "  self.parameters.at[i, 'nu'] = math.sqrt((self.parameters.loc[i, 'nu'])**2 + (((np.linalg.norm(x - self.parameters.loc[i, 'Center']))**2 - (self.parameters.loc[i, 'nu'])**2)/self.parameters.loc[i, 'NumObservations']) + ((self.parameters.loc[i, 'NumObservations'] - 1) * ((np.linalg.norm(self.parameters.loc[i, 'Center'] - self.parameters.loc[i, 'OldCenter']))**2))/self.parameters.loc[i, 'NumObservations'])\n",
      "d:\\Dissertação\\dissertacao_pgmc\\Cadernos\\..\\Modelo\\ePL_KRLS_DISCO.py:158: FutureWarning: Setting an item of incompatible dtype is deprecated and will raise in a future error of pandas. Value '0.7286541887635238' has dtype incompatible with int64, please explicitly cast to a compatible dtype first.\n",
      "  self.parameters.at[i, 'nu'] = math.sqrt((self.parameters.loc[i, 'nu'])**2 + (((np.linalg.norm(x - self.parameters.loc[i, 'Center']))**2 - (self.parameters.loc[i, 'nu'])**2)/self.parameters.loc[i, 'NumObservations']) + ((self.parameters.loc[i, 'NumObservations'] - 1) * ((np.linalg.norm(self.parameters.loc[i, 'Center'] - self.parameters.loc[i, 'OldCenter']))**2))/self.parameters.loc[i, 'NumObservations'])\n",
      "d:\\Dissertação\\dissertacao_pgmc\\Cadernos\\..\\Modelo\\ePL_KRLS_DISCO.py:158: FutureWarning: Setting an item of incompatible dtype is deprecated and will raise in a future error of pandas. Value '0.7286541887635238' has dtype incompatible with int64, please explicitly cast to a compatible dtype first.\n",
      "  self.parameters.at[i, 'nu'] = math.sqrt((self.parameters.loc[i, 'nu'])**2 + (((np.linalg.norm(x - self.parameters.loc[i, 'Center']))**2 - (self.parameters.loc[i, 'nu'])**2)/self.parameters.loc[i, 'NumObservations']) + ((self.parameters.loc[i, 'NumObservations'] - 1) * ((np.linalg.norm(self.parameters.loc[i, 'Center'] - self.parameters.loc[i, 'OldCenter']))**2))/self.parameters.loc[i, 'NumObservations'])\n"
     ]
    },
    {
     "name": "stdout",
     "output_type": "stream",
     "text": [
      "Resultado: MAE = 11.104, RMSE = 18.230\n",
      "\n",
      "Testando combinação 5/96\n",
      "Parâmetros: {'alpha': 0.05, 'beta': 0.01, 'lambda1': 1e-07, 'sigma': 10, 'e_utility': 0.03}\n"
     ]
    },
    {
     "name": "stderr",
     "output_type": "stream",
     "text": [
      "d:\\Dissertação\\dissertacao_pgmc\\Cadernos\\..\\Modelo\\ePL_KRLS_DISCO.py:158: FutureWarning: Setting an item of incompatible dtype is deprecated and will raise in a future error of pandas. Value '7.07325504465961' has dtype incompatible with int64, please explicitly cast to a compatible dtype first.\n",
      "  self.parameters.at[i, 'nu'] = math.sqrt((self.parameters.loc[i, 'nu'])**2 + (((np.linalg.norm(x - self.parameters.loc[i, 'Center']))**2 - (self.parameters.loc[i, 'nu'])**2)/self.parameters.loc[i, 'NumObservations']) + ((self.parameters.loc[i, 'NumObservations'] - 1) * ((np.linalg.norm(self.parameters.loc[i, 'Center'] - self.parameters.loc[i, 'OldCenter']))**2))/self.parameters.loc[i, 'NumObservations'])\n",
      "d:\\Dissertação\\dissertacao_pgmc\\Cadernos\\..\\Modelo\\ePL_KRLS_DISCO.py:158: FutureWarning: Setting an item of incompatible dtype is deprecated and will raise in a future error of pandas. Value '7.07325504465961' has dtype incompatible with int64, please explicitly cast to a compatible dtype first.\n",
      "  self.parameters.at[i, 'nu'] = math.sqrt((self.parameters.loc[i, 'nu'])**2 + (((np.linalg.norm(x - self.parameters.loc[i, 'Center']))**2 - (self.parameters.loc[i, 'nu'])**2)/self.parameters.loc[i, 'NumObservations']) + ((self.parameters.loc[i, 'NumObservations'] - 1) * ((np.linalg.norm(self.parameters.loc[i, 'Center'] - self.parameters.loc[i, 'OldCenter']))**2))/self.parameters.loc[i, 'NumObservations'])\n",
      "d:\\Dissertação\\dissertacao_pgmc\\Cadernos\\..\\Modelo\\ePL_KRLS_DISCO.py:158: FutureWarning: Setting an item of incompatible dtype is deprecated and will raise in a future error of pandas. Value '7.07325504465961' has dtype incompatible with int64, please explicitly cast to a compatible dtype first.\n",
      "  self.parameters.at[i, 'nu'] = math.sqrt((self.parameters.loc[i, 'nu'])**2 + (((np.linalg.norm(x - self.parameters.loc[i, 'Center']))**2 - (self.parameters.loc[i, 'nu'])**2)/self.parameters.loc[i, 'NumObservations']) + ((self.parameters.loc[i, 'NumObservations'] - 1) * ((np.linalg.norm(self.parameters.loc[i, 'Center'] - self.parameters.loc[i, 'OldCenter']))**2))/self.parameters.loc[i, 'NumObservations'])\n",
      "d:\\Dissertação\\dissertacao_pgmc\\Cadernos\\..\\Modelo\\ePL_KRLS_DISCO.py:158: FutureWarning: Setting an item of incompatible dtype is deprecated and will raise in a future error of pandas. Value '7.07325504465961' has dtype incompatible with int64, please explicitly cast to a compatible dtype first.\n",
      "  self.parameters.at[i, 'nu'] = math.sqrt((self.parameters.loc[i, 'nu'])**2 + (((np.linalg.norm(x - self.parameters.loc[i, 'Center']))**2 - (self.parameters.loc[i, 'nu'])**2)/self.parameters.loc[i, 'NumObservations']) + ((self.parameters.loc[i, 'NumObservations'] - 1) * ((np.linalg.norm(self.parameters.loc[i, 'Center'] - self.parameters.loc[i, 'OldCenter']))**2))/self.parameters.loc[i, 'NumObservations'])\n",
      "d:\\Dissertação\\dissertacao_pgmc\\Cadernos\\..\\Modelo\\ePL_KRLS_DISCO.py:158: FutureWarning: Setting an item of incompatible dtype is deprecated and will raise in a future error of pandas. Value '7.07325504465961' has dtype incompatible with int64, please explicitly cast to a compatible dtype first.\n",
      "  self.parameters.at[i, 'nu'] = math.sqrt((self.parameters.loc[i, 'nu'])**2 + (((np.linalg.norm(x - self.parameters.loc[i, 'Center']))**2 - (self.parameters.loc[i, 'nu'])**2)/self.parameters.loc[i, 'NumObservations']) + ((self.parameters.loc[i, 'NumObservations'] - 1) * ((np.linalg.norm(self.parameters.loc[i, 'Center'] - self.parameters.loc[i, 'OldCenter']))**2))/self.parameters.loc[i, 'NumObservations'])\n"
     ]
    },
    {
     "name": "stdout",
     "output_type": "stream",
     "text": [
      "Resultado: MAE = 2.995, RMSE = 4.800\n",
      "\n",
      "Testando combinação 6/96\n",
      "Parâmetros: {'alpha': 0.05, 'beta': 0.01, 'lambda1': 1e-07, 'sigma': 10, 'e_utility': 0.05}\n"
     ]
    },
    {
     "name": "stderr",
     "output_type": "stream",
     "text": [
      "d:\\Dissertação\\dissertacao_pgmc\\Cadernos\\..\\Modelo\\ePL_KRLS_DISCO.py:158: FutureWarning: Setting an item of incompatible dtype is deprecated and will raise in a future error of pandas. Value '7.07325504465961' has dtype incompatible with int64, please explicitly cast to a compatible dtype first.\n",
      "  self.parameters.at[i, 'nu'] = math.sqrt((self.parameters.loc[i, 'nu'])**2 + (((np.linalg.norm(x - self.parameters.loc[i, 'Center']))**2 - (self.parameters.loc[i, 'nu'])**2)/self.parameters.loc[i, 'NumObservations']) + ((self.parameters.loc[i, 'NumObservations'] - 1) * ((np.linalg.norm(self.parameters.loc[i, 'Center'] - self.parameters.loc[i, 'OldCenter']))**2))/self.parameters.loc[i, 'NumObservations'])\n",
      "d:\\Dissertação\\dissertacao_pgmc\\Cadernos\\..\\Modelo\\ePL_KRLS_DISCO.py:158: FutureWarning: Setting an item of incompatible dtype is deprecated and will raise in a future error of pandas. Value '7.07325504465961' has dtype incompatible with int64, please explicitly cast to a compatible dtype first.\n",
      "  self.parameters.at[i, 'nu'] = math.sqrt((self.parameters.loc[i, 'nu'])**2 + (((np.linalg.norm(x - self.parameters.loc[i, 'Center']))**2 - (self.parameters.loc[i, 'nu'])**2)/self.parameters.loc[i, 'NumObservations']) + ((self.parameters.loc[i, 'NumObservations'] - 1) * ((np.linalg.norm(self.parameters.loc[i, 'Center'] - self.parameters.loc[i, 'OldCenter']))**2))/self.parameters.loc[i, 'NumObservations'])\n",
      "d:\\Dissertação\\dissertacao_pgmc\\Cadernos\\..\\Modelo\\ePL_KRLS_DISCO.py:158: FutureWarning: Setting an item of incompatible dtype is deprecated and will raise in a future error of pandas. Value '7.07325504465961' has dtype incompatible with int64, please explicitly cast to a compatible dtype first.\n",
      "  self.parameters.at[i, 'nu'] = math.sqrt((self.parameters.loc[i, 'nu'])**2 + (((np.linalg.norm(x - self.parameters.loc[i, 'Center']))**2 - (self.parameters.loc[i, 'nu'])**2)/self.parameters.loc[i, 'NumObservations']) + ((self.parameters.loc[i, 'NumObservations'] - 1) * ((np.linalg.norm(self.parameters.loc[i, 'Center'] - self.parameters.loc[i, 'OldCenter']))**2))/self.parameters.loc[i, 'NumObservations'])\n",
      "d:\\Dissertação\\dissertacao_pgmc\\Cadernos\\..\\Modelo\\ePL_KRLS_DISCO.py:158: FutureWarning: Setting an item of incompatible dtype is deprecated and will raise in a future error of pandas. Value '7.07325504465961' has dtype incompatible with int64, please explicitly cast to a compatible dtype first.\n",
      "  self.parameters.at[i, 'nu'] = math.sqrt((self.parameters.loc[i, 'nu'])**2 + (((np.linalg.norm(x - self.parameters.loc[i, 'Center']))**2 - (self.parameters.loc[i, 'nu'])**2)/self.parameters.loc[i, 'NumObservations']) + ((self.parameters.loc[i, 'NumObservations'] - 1) * ((np.linalg.norm(self.parameters.loc[i, 'Center'] - self.parameters.loc[i, 'OldCenter']))**2))/self.parameters.loc[i, 'NumObservations'])\n",
      "d:\\Dissertação\\dissertacao_pgmc\\Cadernos\\..\\Modelo\\ePL_KRLS_DISCO.py:158: FutureWarning: Setting an item of incompatible dtype is deprecated and will raise in a future error of pandas. Value '7.07325504465961' has dtype incompatible with int64, please explicitly cast to a compatible dtype first.\n",
      "  self.parameters.at[i, 'nu'] = math.sqrt((self.parameters.loc[i, 'nu'])**2 + (((np.linalg.norm(x - self.parameters.loc[i, 'Center']))**2 - (self.parameters.loc[i, 'nu'])**2)/self.parameters.loc[i, 'NumObservations']) + ((self.parameters.loc[i, 'NumObservations'] - 1) * ((np.linalg.norm(self.parameters.loc[i, 'Center'] - self.parameters.loc[i, 'OldCenter']))**2))/self.parameters.loc[i, 'NumObservations'])\n"
     ]
    },
    {
     "name": "stdout",
     "output_type": "stream",
     "text": [
      "Resultado: MAE = 3.866, RMSE = 5.694\n",
      "\n",
      "Testando combinação 7/96\n",
      "Parâmetros: {'alpha': 0.05, 'beta': 0.01, 'lambda1': 1e-07, 'sigma': 50, 'e_utility': 0.03}\n"
     ]
    },
    {
     "name": "stderr",
     "output_type": "stream",
     "text": [
      "d:\\Dissertação\\dissertacao_pgmc\\Cadernos\\..\\Modelo\\ePL_KRLS_DISCO.py:158: FutureWarning: Setting an item of incompatible dtype is deprecated and will raise in a future error of pandas. Value '35.35577657083497' has dtype incompatible with int64, please explicitly cast to a compatible dtype first.\n",
      "  self.parameters.at[i, 'nu'] = math.sqrt((self.parameters.loc[i, 'nu'])**2 + (((np.linalg.norm(x - self.parameters.loc[i, 'Center']))**2 - (self.parameters.loc[i, 'nu'])**2)/self.parameters.loc[i, 'NumObservations']) + ((self.parameters.loc[i, 'NumObservations'] - 1) * ((np.linalg.norm(self.parameters.loc[i, 'Center'] - self.parameters.loc[i, 'OldCenter']))**2))/self.parameters.loc[i, 'NumObservations'])\n",
      "d:\\Dissertação\\dissertacao_pgmc\\Cadernos\\..\\Modelo\\ePL_KRLS_DISCO.py:158: FutureWarning: Setting an item of incompatible dtype is deprecated and will raise in a future error of pandas. Value '35.35577657083497' has dtype incompatible with int64, please explicitly cast to a compatible dtype first.\n",
      "  self.parameters.at[i, 'nu'] = math.sqrt((self.parameters.loc[i, 'nu'])**2 + (((np.linalg.norm(x - self.parameters.loc[i, 'Center']))**2 - (self.parameters.loc[i, 'nu'])**2)/self.parameters.loc[i, 'NumObservations']) + ((self.parameters.loc[i, 'NumObservations'] - 1) * ((np.linalg.norm(self.parameters.loc[i, 'Center'] - self.parameters.loc[i, 'OldCenter']))**2))/self.parameters.loc[i, 'NumObservations'])\n",
      "d:\\Dissertação\\dissertacao_pgmc\\Cadernos\\..\\Modelo\\ePL_KRLS_DISCO.py:158: FutureWarning: Setting an item of incompatible dtype is deprecated and will raise in a future error of pandas. Value '35.35577657083497' has dtype incompatible with int64, please explicitly cast to a compatible dtype first.\n",
      "  self.parameters.at[i, 'nu'] = math.sqrt((self.parameters.loc[i, 'nu'])**2 + (((np.linalg.norm(x - self.parameters.loc[i, 'Center']))**2 - (self.parameters.loc[i, 'nu'])**2)/self.parameters.loc[i, 'NumObservations']) + ((self.parameters.loc[i, 'NumObservations'] - 1) * ((np.linalg.norm(self.parameters.loc[i, 'Center'] - self.parameters.loc[i, 'OldCenter']))**2))/self.parameters.loc[i, 'NumObservations'])\n",
      "d:\\Dissertação\\dissertacao_pgmc\\Cadernos\\..\\Modelo\\ePL_KRLS_DISCO.py:158: FutureWarning: Setting an item of incompatible dtype is deprecated and will raise in a future error of pandas. Value '35.35577657083497' has dtype incompatible with int64, please explicitly cast to a compatible dtype first.\n",
      "  self.parameters.at[i, 'nu'] = math.sqrt((self.parameters.loc[i, 'nu'])**2 + (((np.linalg.norm(x - self.parameters.loc[i, 'Center']))**2 - (self.parameters.loc[i, 'nu'])**2)/self.parameters.loc[i, 'NumObservations']) + ((self.parameters.loc[i, 'NumObservations'] - 1) * ((np.linalg.norm(self.parameters.loc[i, 'Center'] - self.parameters.loc[i, 'OldCenter']))**2))/self.parameters.loc[i, 'NumObservations'])\n",
      "d:\\Dissertação\\dissertacao_pgmc\\Cadernos\\..\\Modelo\\ePL_KRLS_DISCO.py:158: FutureWarning: Setting an item of incompatible dtype is deprecated and will raise in a future error of pandas. Value '35.35577657083497' has dtype incompatible with int64, please explicitly cast to a compatible dtype first.\n",
      "  self.parameters.at[i, 'nu'] = math.sqrt((self.parameters.loc[i, 'nu'])**2 + (((np.linalg.norm(x - self.parameters.loc[i, 'Center']))**2 - (self.parameters.loc[i, 'nu'])**2)/self.parameters.loc[i, 'NumObservations']) + ((self.parameters.loc[i, 'NumObservations'] - 1) * ((np.linalg.norm(self.parameters.loc[i, 'Center'] - self.parameters.loc[i, 'OldCenter']))**2))/self.parameters.loc[i, 'NumObservations'])\n"
     ]
    },
    {
     "name": "stdout",
     "output_type": "stream",
     "text": [
      "Resultado: MAE = 2.496, RMSE = 3.650\n",
      "\n",
      "Testando combinação 8/96\n",
      "Parâmetros: {'alpha': 0.05, 'beta': 0.01, 'lambda1': 1e-07, 'sigma': 50, 'e_utility': 0.05}\n"
     ]
    },
    {
     "name": "stderr",
     "output_type": "stream",
     "text": [
      "d:\\Dissertação\\dissertacao_pgmc\\Cadernos\\..\\Modelo\\ePL_KRLS_DISCO.py:158: FutureWarning: Setting an item of incompatible dtype is deprecated and will raise in a future error of pandas. Value '35.35577657083497' has dtype incompatible with int64, please explicitly cast to a compatible dtype first.\n",
      "  self.parameters.at[i, 'nu'] = math.sqrt((self.parameters.loc[i, 'nu'])**2 + (((np.linalg.norm(x - self.parameters.loc[i, 'Center']))**2 - (self.parameters.loc[i, 'nu'])**2)/self.parameters.loc[i, 'NumObservations']) + ((self.parameters.loc[i, 'NumObservations'] - 1) * ((np.linalg.norm(self.parameters.loc[i, 'Center'] - self.parameters.loc[i, 'OldCenter']))**2))/self.parameters.loc[i, 'NumObservations'])\n",
      "d:\\Dissertação\\dissertacao_pgmc\\Cadernos\\..\\Modelo\\ePL_KRLS_DISCO.py:158: FutureWarning: Setting an item of incompatible dtype is deprecated and will raise in a future error of pandas. Value '35.35577657083497' has dtype incompatible with int64, please explicitly cast to a compatible dtype first.\n",
      "  self.parameters.at[i, 'nu'] = math.sqrt((self.parameters.loc[i, 'nu'])**2 + (((np.linalg.norm(x - self.parameters.loc[i, 'Center']))**2 - (self.parameters.loc[i, 'nu'])**2)/self.parameters.loc[i, 'NumObservations']) + ((self.parameters.loc[i, 'NumObservations'] - 1) * ((np.linalg.norm(self.parameters.loc[i, 'Center'] - self.parameters.loc[i, 'OldCenter']))**2))/self.parameters.loc[i, 'NumObservations'])\n",
      "d:\\Dissertação\\dissertacao_pgmc\\Cadernos\\..\\Modelo\\ePL_KRLS_DISCO.py:158: FutureWarning: Setting an item of incompatible dtype is deprecated and will raise in a future error of pandas. Value '35.35577657083497' has dtype incompatible with int64, please explicitly cast to a compatible dtype first.\n",
      "  self.parameters.at[i, 'nu'] = math.sqrt((self.parameters.loc[i, 'nu'])**2 + (((np.linalg.norm(x - self.parameters.loc[i, 'Center']))**2 - (self.parameters.loc[i, 'nu'])**2)/self.parameters.loc[i, 'NumObservations']) + ((self.parameters.loc[i, 'NumObservations'] - 1) * ((np.linalg.norm(self.parameters.loc[i, 'Center'] - self.parameters.loc[i, 'OldCenter']))**2))/self.parameters.loc[i, 'NumObservations'])\n",
      "d:\\Dissertação\\dissertacao_pgmc\\Cadernos\\..\\Modelo\\ePL_KRLS_DISCO.py:158: FutureWarning: Setting an item of incompatible dtype is deprecated and will raise in a future error of pandas. Value '35.35577657083497' has dtype incompatible with int64, please explicitly cast to a compatible dtype first.\n",
      "  self.parameters.at[i, 'nu'] = math.sqrt((self.parameters.loc[i, 'nu'])**2 + (((np.linalg.norm(x - self.parameters.loc[i, 'Center']))**2 - (self.parameters.loc[i, 'nu'])**2)/self.parameters.loc[i, 'NumObservations']) + ((self.parameters.loc[i, 'NumObservations'] - 1) * ((np.linalg.norm(self.parameters.loc[i, 'Center'] - self.parameters.loc[i, 'OldCenter']))**2))/self.parameters.loc[i, 'NumObservations'])\n",
      "d:\\Dissertação\\dissertacao_pgmc\\Cadernos\\..\\Modelo\\ePL_KRLS_DISCO.py:158: FutureWarning: Setting an item of incompatible dtype is deprecated and will raise in a future error of pandas. Value '35.35577657083497' has dtype incompatible with int64, please explicitly cast to a compatible dtype first.\n",
      "  self.parameters.at[i, 'nu'] = math.sqrt((self.parameters.loc[i, 'nu'])**2 + (((np.linalg.norm(x - self.parameters.loc[i, 'Center']))**2 - (self.parameters.loc[i, 'nu'])**2)/self.parameters.loc[i, 'NumObservations']) + ((self.parameters.loc[i, 'NumObservations'] - 1) * ((np.linalg.norm(self.parameters.loc[i, 'Center'] - self.parameters.loc[i, 'OldCenter']))**2))/self.parameters.loc[i, 'NumObservations'])\n"
     ]
    },
    {
     "name": "stdout",
     "output_type": "stream",
     "text": [
      "Resultado: MAE = 2.871, RMSE = 4.051\n",
      "\n",
      "Testando combinação 9/96\n",
      "Parâmetros: {'alpha': 0.05, 'beta': 0.01, 'lambda1': 0.001, 'sigma': 0.5, 'e_utility': 0.03}\n",
      "Resultado: MAE = 2.608, RMSE = 3.989\n",
      "\n",
      "Testando combinação 10/96\n",
      "Parâmetros: {'alpha': 0.05, 'beta': 0.01, 'lambda1': 0.001, 'sigma': 0.5, 'e_utility': 0.05}\n",
      "Resultado: MAE = 2.633, RMSE = 3.917\n",
      "\n",
      "Testando combinação 11/96\n",
      "Parâmetros: {'alpha': 0.05, 'beta': 0.01, 'lambda1': 0.001, 'sigma': 1, 'e_utility': 0.03}\n"
     ]
    },
    {
     "name": "stderr",
     "output_type": "stream",
     "text": [
      "d:\\Dissertação\\dissertacao_pgmc\\Cadernos\\..\\Modelo\\ePL_KRLS_DISCO.py:158: FutureWarning: Setting an item of incompatible dtype is deprecated and will raise in a future error of pandas. Value '0.7286541887635238' has dtype incompatible with int64, please explicitly cast to a compatible dtype first.\n",
      "  self.parameters.at[i, 'nu'] = math.sqrt((self.parameters.loc[i, 'nu'])**2 + (((np.linalg.norm(x - self.parameters.loc[i, 'Center']))**2 - (self.parameters.loc[i, 'nu'])**2)/self.parameters.loc[i, 'NumObservations']) + ((self.parameters.loc[i, 'NumObservations'] - 1) * ((np.linalg.norm(self.parameters.loc[i, 'Center'] - self.parameters.loc[i, 'OldCenter']))**2))/self.parameters.loc[i, 'NumObservations'])\n",
      "d:\\Dissertação\\dissertacao_pgmc\\Cadernos\\..\\Modelo\\ePL_KRLS_DISCO.py:158: FutureWarning: Setting an item of incompatible dtype is deprecated and will raise in a future error of pandas. Value '0.7286541887635238' has dtype incompatible with int64, please explicitly cast to a compatible dtype first.\n",
      "  self.parameters.at[i, 'nu'] = math.sqrt((self.parameters.loc[i, 'nu'])**2 + (((np.linalg.norm(x - self.parameters.loc[i, 'Center']))**2 - (self.parameters.loc[i, 'nu'])**2)/self.parameters.loc[i, 'NumObservations']) + ((self.parameters.loc[i, 'NumObservations'] - 1) * ((np.linalg.norm(self.parameters.loc[i, 'Center'] - self.parameters.loc[i, 'OldCenter']))**2))/self.parameters.loc[i, 'NumObservations'])\n",
      "d:\\Dissertação\\dissertacao_pgmc\\Cadernos\\..\\Modelo\\ePL_KRLS_DISCO.py:158: FutureWarning: Setting an item of incompatible dtype is deprecated and will raise in a future error of pandas. Value '0.7286541887635238' has dtype incompatible with int64, please explicitly cast to a compatible dtype first.\n",
      "  self.parameters.at[i, 'nu'] = math.sqrt((self.parameters.loc[i, 'nu'])**2 + (((np.linalg.norm(x - self.parameters.loc[i, 'Center']))**2 - (self.parameters.loc[i, 'nu'])**2)/self.parameters.loc[i, 'NumObservations']) + ((self.parameters.loc[i, 'NumObservations'] - 1) * ((np.linalg.norm(self.parameters.loc[i, 'Center'] - self.parameters.loc[i, 'OldCenter']))**2))/self.parameters.loc[i, 'NumObservations'])\n",
      "d:\\Dissertação\\dissertacao_pgmc\\Cadernos\\..\\Modelo\\ePL_KRLS_DISCO.py:158: FutureWarning: Setting an item of incompatible dtype is deprecated and will raise in a future error of pandas. Value '0.7286541887635238' has dtype incompatible with int64, please explicitly cast to a compatible dtype first.\n",
      "  self.parameters.at[i, 'nu'] = math.sqrt((self.parameters.loc[i, 'nu'])**2 + (((np.linalg.norm(x - self.parameters.loc[i, 'Center']))**2 - (self.parameters.loc[i, 'nu'])**2)/self.parameters.loc[i, 'NumObservations']) + ((self.parameters.loc[i, 'NumObservations'] - 1) * ((np.linalg.norm(self.parameters.loc[i, 'Center'] - self.parameters.loc[i, 'OldCenter']))**2))/self.parameters.loc[i, 'NumObservations'])\n",
      "d:\\Dissertação\\dissertacao_pgmc\\Cadernos\\..\\Modelo\\ePL_KRLS_DISCO.py:158: FutureWarning: Setting an item of incompatible dtype is deprecated and will raise in a future error of pandas. Value '0.7286541887635238' has dtype incompatible with int64, please explicitly cast to a compatible dtype first.\n",
      "  self.parameters.at[i, 'nu'] = math.sqrt((self.parameters.loc[i, 'nu'])**2 + (((np.linalg.norm(x - self.parameters.loc[i, 'Center']))**2 - (self.parameters.loc[i, 'nu'])**2)/self.parameters.loc[i, 'NumObservations']) + ((self.parameters.loc[i, 'NumObservations'] - 1) * ((np.linalg.norm(self.parameters.loc[i, 'Center'] - self.parameters.loc[i, 'OldCenter']))**2))/self.parameters.loc[i, 'NumObservations'])\n"
     ]
    },
    {
     "name": "stdout",
     "output_type": "stream",
     "text": [
      "Resultado: MAE = 2.320, RMSE = 3.422\n",
      "\n",
      "Testando combinação 12/96\n",
      "Parâmetros: {'alpha': 0.05, 'beta': 0.01, 'lambda1': 0.001, 'sigma': 1, 'e_utility': 0.05}\n"
     ]
    },
    {
     "name": "stderr",
     "output_type": "stream",
     "text": [
      "d:\\Dissertação\\dissertacao_pgmc\\Cadernos\\..\\Modelo\\ePL_KRLS_DISCO.py:158: FutureWarning: Setting an item of incompatible dtype is deprecated and will raise in a future error of pandas. Value '0.7286541887635238' has dtype incompatible with int64, please explicitly cast to a compatible dtype first.\n",
      "  self.parameters.at[i, 'nu'] = math.sqrt((self.parameters.loc[i, 'nu'])**2 + (((np.linalg.norm(x - self.parameters.loc[i, 'Center']))**2 - (self.parameters.loc[i, 'nu'])**2)/self.parameters.loc[i, 'NumObservations']) + ((self.parameters.loc[i, 'NumObservations'] - 1) * ((np.linalg.norm(self.parameters.loc[i, 'Center'] - self.parameters.loc[i, 'OldCenter']))**2))/self.parameters.loc[i, 'NumObservations'])\n",
      "d:\\Dissertação\\dissertacao_pgmc\\Cadernos\\..\\Modelo\\ePL_KRLS_DISCO.py:158: FutureWarning: Setting an item of incompatible dtype is deprecated and will raise in a future error of pandas. Value '0.7286541887635238' has dtype incompatible with int64, please explicitly cast to a compatible dtype first.\n",
      "  self.parameters.at[i, 'nu'] = math.sqrt((self.parameters.loc[i, 'nu'])**2 + (((np.linalg.norm(x - self.parameters.loc[i, 'Center']))**2 - (self.parameters.loc[i, 'nu'])**2)/self.parameters.loc[i, 'NumObservations']) + ((self.parameters.loc[i, 'NumObservations'] - 1) * ((np.linalg.norm(self.parameters.loc[i, 'Center'] - self.parameters.loc[i, 'OldCenter']))**2))/self.parameters.loc[i, 'NumObservations'])\n",
      "d:\\Dissertação\\dissertacao_pgmc\\Cadernos\\..\\Modelo\\ePL_KRLS_DISCO.py:158: FutureWarning: Setting an item of incompatible dtype is deprecated and will raise in a future error of pandas. Value '0.7286541887635238' has dtype incompatible with int64, please explicitly cast to a compatible dtype first.\n",
      "  self.parameters.at[i, 'nu'] = math.sqrt((self.parameters.loc[i, 'nu'])**2 + (((np.linalg.norm(x - self.parameters.loc[i, 'Center']))**2 - (self.parameters.loc[i, 'nu'])**2)/self.parameters.loc[i, 'NumObservations']) + ((self.parameters.loc[i, 'NumObservations'] - 1) * ((np.linalg.norm(self.parameters.loc[i, 'Center'] - self.parameters.loc[i, 'OldCenter']))**2))/self.parameters.loc[i, 'NumObservations'])\n",
      "d:\\Dissertação\\dissertacao_pgmc\\Cadernos\\..\\Modelo\\ePL_KRLS_DISCO.py:158: FutureWarning: Setting an item of incompatible dtype is deprecated and will raise in a future error of pandas. Value '0.7286541887635238' has dtype incompatible with int64, please explicitly cast to a compatible dtype first.\n",
      "  self.parameters.at[i, 'nu'] = math.sqrt((self.parameters.loc[i, 'nu'])**2 + (((np.linalg.norm(x - self.parameters.loc[i, 'Center']))**2 - (self.parameters.loc[i, 'nu'])**2)/self.parameters.loc[i, 'NumObservations']) + ((self.parameters.loc[i, 'NumObservations'] - 1) * ((np.linalg.norm(self.parameters.loc[i, 'Center'] - self.parameters.loc[i, 'OldCenter']))**2))/self.parameters.loc[i, 'NumObservations'])\n",
      "d:\\Dissertação\\dissertacao_pgmc\\Cadernos\\..\\Modelo\\ePL_KRLS_DISCO.py:158: FutureWarning: Setting an item of incompatible dtype is deprecated and will raise in a future error of pandas. Value '0.7286541887635238' has dtype incompatible with int64, please explicitly cast to a compatible dtype first.\n",
      "  self.parameters.at[i, 'nu'] = math.sqrt((self.parameters.loc[i, 'nu'])**2 + (((np.linalg.norm(x - self.parameters.loc[i, 'Center']))**2 - (self.parameters.loc[i, 'nu'])**2)/self.parameters.loc[i, 'NumObservations']) + ((self.parameters.loc[i, 'NumObservations'] - 1) * ((np.linalg.norm(self.parameters.loc[i, 'Center'] - self.parameters.loc[i, 'OldCenter']))**2))/self.parameters.loc[i, 'NumObservations'])\n"
     ]
    },
    {
     "name": "stdout",
     "output_type": "stream",
     "text": [
      "Resultado: MAE = 2.391, RMSE = 3.569\n",
      "\n",
      "Testando combinação 13/96\n",
      "Parâmetros: {'alpha': 0.05, 'beta': 0.01, 'lambda1': 0.001, 'sigma': 10, 'e_utility': 0.03}\n"
     ]
    },
    {
     "name": "stderr",
     "output_type": "stream",
     "text": [
      "d:\\Dissertação\\dissertacao_pgmc\\Cadernos\\..\\Modelo\\ePL_KRLS_DISCO.py:158: FutureWarning: Setting an item of incompatible dtype is deprecated and will raise in a future error of pandas. Value '7.07325504465961' has dtype incompatible with int64, please explicitly cast to a compatible dtype first.\n",
      "  self.parameters.at[i, 'nu'] = math.sqrt((self.parameters.loc[i, 'nu'])**2 + (((np.linalg.norm(x - self.parameters.loc[i, 'Center']))**2 - (self.parameters.loc[i, 'nu'])**2)/self.parameters.loc[i, 'NumObservations']) + ((self.parameters.loc[i, 'NumObservations'] - 1) * ((np.linalg.norm(self.parameters.loc[i, 'Center'] - self.parameters.loc[i, 'OldCenter']))**2))/self.parameters.loc[i, 'NumObservations'])\n",
      "d:\\Dissertação\\dissertacao_pgmc\\Cadernos\\..\\Modelo\\ePL_KRLS_DISCO.py:158: FutureWarning: Setting an item of incompatible dtype is deprecated and will raise in a future error of pandas. Value '7.07325504465961' has dtype incompatible with int64, please explicitly cast to a compatible dtype first.\n",
      "  self.parameters.at[i, 'nu'] = math.sqrt((self.parameters.loc[i, 'nu'])**2 + (((np.linalg.norm(x - self.parameters.loc[i, 'Center']))**2 - (self.parameters.loc[i, 'nu'])**2)/self.parameters.loc[i, 'NumObservations']) + ((self.parameters.loc[i, 'NumObservations'] - 1) * ((np.linalg.norm(self.parameters.loc[i, 'Center'] - self.parameters.loc[i, 'OldCenter']))**2))/self.parameters.loc[i, 'NumObservations'])\n",
      "d:\\Dissertação\\dissertacao_pgmc\\Cadernos\\..\\Modelo\\ePL_KRLS_DISCO.py:158: FutureWarning: Setting an item of incompatible dtype is deprecated and will raise in a future error of pandas. Value '7.07325504465961' has dtype incompatible with int64, please explicitly cast to a compatible dtype first.\n",
      "  self.parameters.at[i, 'nu'] = math.sqrt((self.parameters.loc[i, 'nu'])**2 + (((np.linalg.norm(x - self.parameters.loc[i, 'Center']))**2 - (self.parameters.loc[i, 'nu'])**2)/self.parameters.loc[i, 'NumObservations']) + ((self.parameters.loc[i, 'NumObservations'] - 1) * ((np.linalg.norm(self.parameters.loc[i, 'Center'] - self.parameters.loc[i, 'OldCenter']))**2))/self.parameters.loc[i, 'NumObservations'])\n",
      "d:\\Dissertação\\dissertacao_pgmc\\Cadernos\\..\\Modelo\\ePL_KRLS_DISCO.py:158: FutureWarning: Setting an item of incompatible dtype is deprecated and will raise in a future error of pandas. Value '7.07325504465961' has dtype incompatible with int64, please explicitly cast to a compatible dtype first.\n",
      "  self.parameters.at[i, 'nu'] = math.sqrt((self.parameters.loc[i, 'nu'])**2 + (((np.linalg.norm(x - self.parameters.loc[i, 'Center']))**2 - (self.parameters.loc[i, 'nu'])**2)/self.parameters.loc[i, 'NumObservations']) + ((self.parameters.loc[i, 'NumObservations'] - 1) * ((np.linalg.norm(self.parameters.loc[i, 'Center'] - self.parameters.loc[i, 'OldCenter']))**2))/self.parameters.loc[i, 'NumObservations'])\n",
      "d:\\Dissertação\\dissertacao_pgmc\\Cadernos\\..\\Modelo\\ePL_KRLS_DISCO.py:158: FutureWarning: Setting an item of incompatible dtype is deprecated and will raise in a future error of pandas. Value '7.07325504465961' has dtype incompatible with int64, please explicitly cast to a compatible dtype first.\n",
      "  self.parameters.at[i, 'nu'] = math.sqrt((self.parameters.loc[i, 'nu'])**2 + (((np.linalg.norm(x - self.parameters.loc[i, 'Center']))**2 - (self.parameters.loc[i, 'nu'])**2)/self.parameters.loc[i, 'NumObservations']) + ((self.parameters.loc[i, 'NumObservations'] - 1) * ((np.linalg.norm(self.parameters.loc[i, 'Center'] - self.parameters.loc[i, 'OldCenter']))**2))/self.parameters.loc[i, 'NumObservations'])\n"
     ]
    },
    {
     "name": "stdout",
     "output_type": "stream",
     "text": [
      "Resultado: MAE = 1.780, RMSE = 2.492\n",
      "\n",
      "Testando combinação 14/96\n",
      "Parâmetros: {'alpha': 0.05, 'beta': 0.01, 'lambda1': 0.001, 'sigma': 10, 'e_utility': 0.05}\n"
     ]
    },
    {
     "name": "stderr",
     "output_type": "stream",
     "text": [
      "d:\\Dissertação\\dissertacao_pgmc\\Cadernos\\..\\Modelo\\ePL_KRLS_DISCO.py:158: FutureWarning: Setting an item of incompatible dtype is deprecated and will raise in a future error of pandas. Value '7.07325504465961' has dtype incompatible with int64, please explicitly cast to a compatible dtype first.\n",
      "  self.parameters.at[i, 'nu'] = math.sqrt((self.parameters.loc[i, 'nu'])**2 + (((np.linalg.norm(x - self.parameters.loc[i, 'Center']))**2 - (self.parameters.loc[i, 'nu'])**2)/self.parameters.loc[i, 'NumObservations']) + ((self.parameters.loc[i, 'NumObservations'] - 1) * ((np.linalg.norm(self.parameters.loc[i, 'Center'] - self.parameters.loc[i, 'OldCenter']))**2))/self.parameters.loc[i, 'NumObservations'])\n",
      "d:\\Dissertação\\dissertacao_pgmc\\Cadernos\\..\\Modelo\\ePL_KRLS_DISCO.py:158: FutureWarning: Setting an item of incompatible dtype is deprecated and will raise in a future error of pandas. Value '7.07325504465961' has dtype incompatible with int64, please explicitly cast to a compatible dtype first.\n",
      "  self.parameters.at[i, 'nu'] = math.sqrt((self.parameters.loc[i, 'nu'])**2 + (((np.linalg.norm(x - self.parameters.loc[i, 'Center']))**2 - (self.parameters.loc[i, 'nu'])**2)/self.parameters.loc[i, 'NumObservations']) + ((self.parameters.loc[i, 'NumObservations'] - 1) * ((np.linalg.norm(self.parameters.loc[i, 'Center'] - self.parameters.loc[i, 'OldCenter']))**2))/self.parameters.loc[i, 'NumObservations'])\n",
      "d:\\Dissertação\\dissertacao_pgmc\\Cadernos\\..\\Modelo\\ePL_KRLS_DISCO.py:158: FutureWarning: Setting an item of incompatible dtype is deprecated and will raise in a future error of pandas. Value '7.07325504465961' has dtype incompatible with int64, please explicitly cast to a compatible dtype first.\n",
      "  self.parameters.at[i, 'nu'] = math.sqrt((self.parameters.loc[i, 'nu'])**2 + (((np.linalg.norm(x - self.parameters.loc[i, 'Center']))**2 - (self.parameters.loc[i, 'nu'])**2)/self.parameters.loc[i, 'NumObservations']) + ((self.parameters.loc[i, 'NumObservations'] - 1) * ((np.linalg.norm(self.parameters.loc[i, 'Center'] - self.parameters.loc[i, 'OldCenter']))**2))/self.parameters.loc[i, 'NumObservations'])\n",
      "d:\\Dissertação\\dissertacao_pgmc\\Cadernos\\..\\Modelo\\ePL_KRLS_DISCO.py:158: FutureWarning: Setting an item of incompatible dtype is deprecated and will raise in a future error of pandas. Value '7.07325504465961' has dtype incompatible with int64, please explicitly cast to a compatible dtype first.\n",
      "  self.parameters.at[i, 'nu'] = math.sqrt((self.parameters.loc[i, 'nu'])**2 + (((np.linalg.norm(x - self.parameters.loc[i, 'Center']))**2 - (self.parameters.loc[i, 'nu'])**2)/self.parameters.loc[i, 'NumObservations']) + ((self.parameters.loc[i, 'NumObservations'] - 1) * ((np.linalg.norm(self.parameters.loc[i, 'Center'] - self.parameters.loc[i, 'OldCenter']))**2))/self.parameters.loc[i, 'NumObservations'])\n",
      "d:\\Dissertação\\dissertacao_pgmc\\Cadernos\\..\\Modelo\\ePL_KRLS_DISCO.py:158: FutureWarning: Setting an item of incompatible dtype is deprecated and will raise in a future error of pandas. Value '7.07325504465961' has dtype incompatible with int64, please explicitly cast to a compatible dtype first.\n",
      "  self.parameters.at[i, 'nu'] = math.sqrt((self.parameters.loc[i, 'nu'])**2 + (((np.linalg.norm(x - self.parameters.loc[i, 'Center']))**2 - (self.parameters.loc[i, 'nu'])**2)/self.parameters.loc[i, 'NumObservations']) + ((self.parameters.loc[i, 'NumObservations'] - 1) * ((np.linalg.norm(self.parameters.loc[i, 'Center'] - self.parameters.loc[i, 'OldCenter']))**2))/self.parameters.loc[i, 'NumObservations'])\n"
     ]
    },
    {
     "name": "stdout",
     "output_type": "stream",
     "text": [
      "Resultado: MAE = 1.766, RMSE = 2.439\n",
      "\n",
      "Testando combinação 15/96\n",
      "Parâmetros: {'alpha': 0.05, 'beta': 0.01, 'lambda1': 0.001, 'sigma': 50, 'e_utility': 0.03}\n"
     ]
    },
    {
     "name": "stderr",
     "output_type": "stream",
     "text": [
      "d:\\Dissertação\\dissertacao_pgmc\\Cadernos\\..\\Modelo\\ePL_KRLS_DISCO.py:158: FutureWarning: Setting an item of incompatible dtype is deprecated and will raise in a future error of pandas. Value '35.35577657083497' has dtype incompatible with int64, please explicitly cast to a compatible dtype first.\n",
      "  self.parameters.at[i, 'nu'] = math.sqrt((self.parameters.loc[i, 'nu'])**2 + (((np.linalg.norm(x - self.parameters.loc[i, 'Center']))**2 - (self.parameters.loc[i, 'nu'])**2)/self.parameters.loc[i, 'NumObservations']) + ((self.parameters.loc[i, 'NumObservations'] - 1) * ((np.linalg.norm(self.parameters.loc[i, 'Center'] - self.parameters.loc[i, 'OldCenter']))**2))/self.parameters.loc[i, 'NumObservations'])\n",
      "d:\\Dissertação\\dissertacao_pgmc\\Cadernos\\..\\Modelo\\ePL_KRLS_DISCO.py:158: FutureWarning: Setting an item of incompatible dtype is deprecated and will raise in a future error of pandas. Value '35.35577657083497' has dtype incompatible with int64, please explicitly cast to a compatible dtype first.\n",
      "  self.parameters.at[i, 'nu'] = math.sqrt((self.parameters.loc[i, 'nu'])**2 + (((np.linalg.norm(x - self.parameters.loc[i, 'Center']))**2 - (self.parameters.loc[i, 'nu'])**2)/self.parameters.loc[i, 'NumObservations']) + ((self.parameters.loc[i, 'NumObservations'] - 1) * ((np.linalg.norm(self.parameters.loc[i, 'Center'] - self.parameters.loc[i, 'OldCenter']))**2))/self.parameters.loc[i, 'NumObservations'])\n",
      "d:\\Dissertação\\dissertacao_pgmc\\Cadernos\\..\\Modelo\\ePL_KRLS_DISCO.py:158: FutureWarning: Setting an item of incompatible dtype is deprecated and will raise in a future error of pandas. Value '35.35577657083497' has dtype incompatible with int64, please explicitly cast to a compatible dtype first.\n",
      "  self.parameters.at[i, 'nu'] = math.sqrt((self.parameters.loc[i, 'nu'])**2 + (((np.linalg.norm(x - self.parameters.loc[i, 'Center']))**2 - (self.parameters.loc[i, 'nu'])**2)/self.parameters.loc[i, 'NumObservations']) + ((self.parameters.loc[i, 'NumObservations'] - 1) * ((np.linalg.norm(self.parameters.loc[i, 'Center'] - self.parameters.loc[i, 'OldCenter']))**2))/self.parameters.loc[i, 'NumObservations'])\n"
     ]
    },
    {
     "ename": "KeyboardInterrupt",
     "evalue": "",
     "output_type": "error",
     "traceback": [
      "\u001b[1;31m---------------------------------------------------------------------------\u001b[0m",
      "\u001b[1;31mKeyboardInterrupt\u001b[0m                         Traceback (most recent call last)",
      "Input \u001b[1;32mIn [21]\u001b[0m, in \u001b[0;36m<cell line: 69>\u001b[1;34m()\u001b[0m\n\u001b[0;32m     64\u001b[0m     \u001b[38;5;28mprint\u001b[39m(\u001b[38;5;124mf\u001b[39m\u001b[38;5;124m\"\u001b[39m\u001b[38;5;124mMelhor RMSE: \u001b[39m\u001b[38;5;132;01m{\u001b[39;00mbest_score\u001b[38;5;132;01m:\u001b[39;00m\u001b[38;5;124m.3f\u001b[39m\u001b[38;5;132;01m}\u001b[39;00m\u001b[38;5;130;01m\\n\u001b[39;00m\u001b[38;5;124m\"\u001b[39m)\n\u001b[0;32m     66\u001b[0m     \u001b[38;5;28;01mreturn\u001b[39;00m best_params, best_score, all_results\n\u001b[1;32m---> 69\u001b[0m best_params, best_score, all_results \u001b[38;5;241m=\u001b[39m \u001b[43mgrid_search_ePL_KRLS_DISCO\u001b[49m\u001b[43m(\u001b[49m\u001b[43mX\u001b[49m\u001b[38;5;241;43m.\u001b[39;49m\u001b[43mvalues\u001b[49m\u001b[43m,\u001b[49m\u001b[43m \u001b[49m\u001b[43my\u001b[49m\u001b[43m,\u001b[49m\u001b[43m \u001b[49m\u001b[43mparam_grid\u001b[49m\u001b[43m,\u001b[49m\u001b[43m \u001b[49m\u001b[43mall_splits\u001b[49m\u001b[43m)\u001b[49m\n",
      "Input \u001b[1;32mIn [21]\u001b[0m, in \u001b[0;36mgrid_search_ePL_KRLS_DISCO\u001b[1;34m(X, y, param_grid, splits)\u001b[0m\n\u001b[0;32m     46\u001b[0m     \u001b[38;5;28;01mreturn\u001b[39;00m mae_scores\u001b[38;5;241m.\u001b[39mmean(), rmse_scores\u001b[38;5;241m.\u001b[39mmean()\n\u001b[0;32m     48\u001b[0m \u001b[38;5;66;03m# Avaliar o modelo com os hiperparâmetros atuais\u001b[39;00m\n\u001b[1;32m---> 49\u001b[0m mae_mean, rmse_mean \u001b[38;5;241m=\u001b[39m \u001b[43mavaliaModelo\u001b[49m\u001b[43m(\u001b[49m\u001b[43mX\u001b[49m\u001b[43m,\u001b[49m\u001b[43m \u001b[49m\u001b[43my\u001b[49m\u001b[43m)\u001b[49m\n\u001b[0;32m     51\u001b[0m \u001b[38;5;28mprint\u001b[39m(\u001b[38;5;124mf\u001b[39m\u001b[38;5;124m\"\u001b[39m\u001b[38;5;124mResultado: MAE = \u001b[39m\u001b[38;5;132;01m{\u001b[39;00mmae_mean\u001b[38;5;132;01m:\u001b[39;00m\u001b[38;5;124m.3f\u001b[39m\u001b[38;5;132;01m}\u001b[39;00m\u001b[38;5;124m, RMSE = \u001b[39m\u001b[38;5;132;01m{\u001b[39;00mrmse_mean\u001b[38;5;132;01m:\u001b[39;00m\u001b[38;5;124m.3f\u001b[39m\u001b[38;5;132;01m}\u001b[39;00m\u001b[38;5;130;01m\\n\u001b[39;00m\u001b[38;5;124m\"\u001b[39m)\n\u001b[0;32m     53\u001b[0m \u001b[38;5;66;03m# Guardar o resultado\u001b[39;00m\n",
      "Input \u001b[1;32mIn [21]\u001b[0m, in \u001b[0;36mgrid_search_ePL_KRLS_DISCO.<locals>.avaliaModelo\u001b[1;34m(X, y, splits)\u001b[0m\n\u001b[0;32m     31\u001b[0m X_train, X_test \u001b[38;5;241m=\u001b[39m X[train_index], X[test_index]\n\u001b[0;32m     32\u001b[0m y_train, y_test \u001b[38;5;241m=\u001b[39m y[train_index], y[test_index]\n\u001b[1;32m---> 34\u001b[0m OutputTraining, Rules \u001b[38;5;241m=\u001b[39m \u001b[43mmodel\u001b[49m\u001b[38;5;241;43m.\u001b[39;49m\u001b[43mfit\u001b[49m\u001b[43m(\u001b[49m\u001b[43mX_train\u001b[49m\u001b[43m,\u001b[49m\u001b[43m \u001b[49m\u001b[43my_train\u001b[49m\u001b[43m)\u001b[49m\n\u001b[0;32m     35\u001b[0m OutputTest \u001b[38;5;241m=\u001b[39m model\u001b[38;5;241m.\u001b[39mpredict(X_test)\n\u001b[0;32m     37\u001b[0m tmp_y_test \u001b[38;5;241m=\u001b[39m scaler_y\u001b[38;5;241m.\u001b[39minverse_transform(y_test\u001b[38;5;241m.\u001b[39mreshape(\u001b[38;5;241m-\u001b[39m\u001b[38;5;241m1\u001b[39m, \u001b[38;5;241m1\u001b[39m))\n",
      "File \u001b[1;32md:\\Dissertação\\dissertacao_pgmc\\Cadernos\\..\\Modelo\\ePL_KRLS_DISCO.py:44\u001b[0m, in \u001b[0;36mePL_KRLS_DISCO.fit\u001b[1;34m(self, X, y)\u001b[0m\n\u001b[0;32m     42\u001b[0m \u001b[38;5;66;03m# Compute the compatibility measure and the arousal index for all rules\u001b[39;00m\n\u001b[0;32m     43\u001b[0m \u001b[38;5;28;01mfor\u001b[39;00m i \u001b[38;5;129;01min\u001b[39;00m \u001b[38;5;28mself\u001b[39m\u001b[38;5;241m.\u001b[39mparameters\u001b[38;5;241m.\u001b[39mindex:\n\u001b[1;32m---> 44\u001b[0m     \u001b[38;5;28;43mself\u001b[39;49m\u001b[38;5;241;43m.\u001b[39;49m\u001b[43mCompatibility_Measure\u001b[49m\u001b[43m(\u001b[49m\u001b[43mx\u001b[49m\u001b[43m,\u001b[49m\u001b[43m \u001b[49m\u001b[43mi\u001b[49m\u001b[43m)\u001b[49m\n\u001b[0;32m     45\u001b[0m     \u001b[38;5;28mself\u001b[39m\u001b[38;5;241m.\u001b[39mArousal_Index(i)\n\u001b[0;32m     46\u001b[0m \u001b[38;5;66;03m# Find the minimum arousal index\u001b[39;00m\n",
      "File \u001b[1;32md:\\Dissertação\\dissertacao_pgmc\\Cadernos\\..\\Modelo\\ePL_KRLS_DISCO.py:123\u001b[0m, in \u001b[0;36mePL_KRLS_DISCO.Compatibility_Measure\u001b[1;34m(self, x, i)\u001b[0m\n\u001b[0;32m    121\u001b[0m     \u001b[38;5;28mself\u001b[39m\u001b[38;5;241m.\u001b[39mparameters\u001b[38;5;241m.\u001b[39mat[i, \u001b[38;5;124m'\u001b[39m\u001b[38;5;124mCompatibilityMeasure\u001b[39m\u001b[38;5;124m'\u001b[39m] \u001b[38;5;241m=\u001b[39m (\u001b[38;5;241m1\u001b[39m \u001b[38;5;241m-\u001b[39m ((np\u001b[38;5;241m.\u001b[39mlinalg\u001b[38;5;241m.\u001b[39mnorm(x \u001b[38;5;241m-\u001b[39m \u001b[38;5;28mself\u001b[39m\u001b[38;5;241m.\u001b[39mparameters\u001b[38;5;241m.\u001b[39mloc[i, \u001b[38;5;124m'\u001b[39m\u001b[38;5;124mCenter\u001b[39m\u001b[38;5;124m'\u001b[39m]))\u001b[38;5;241m/\u001b[39mx\u001b[38;5;241m.\u001b[39mshape[\u001b[38;5;241m0\u001b[39m]))\n\u001b[0;32m    122\u001b[0m \u001b[38;5;28;01melse\u001b[39;00m:\n\u001b[1;32m--> 123\u001b[0m     \u001b[38;5;28mself\u001b[39m\u001b[38;5;241m.\u001b[39mparameters\u001b[38;5;241m.\u001b[39mat[i, \u001b[38;5;124m'\u001b[39m\u001b[38;5;124mCompatibilityMeasure\u001b[39m\u001b[38;5;124m'\u001b[39m] \u001b[38;5;241m=\u001b[39m (\u001b[38;5;241m1\u001b[39m \u001b[38;5;241m-\u001b[39m ((np\u001b[38;5;241m.\u001b[39mlinalg\u001b[38;5;241m.\u001b[39mnorm(x \u001b[38;5;241m-\u001b[39m \u001b[38;5;28mself\u001b[39m\u001b[38;5;241m.\u001b[39mparameters\u001b[38;5;241m.\u001b[39mloc[i, \u001b[38;5;124m'\u001b[39m\u001b[38;5;124mCenter\u001b[39m\u001b[38;5;124m'\u001b[39m]))\u001b[38;5;241m/\u001b[39mx\u001b[38;5;241m.\u001b[39mshape[\u001b[38;5;241m0\u001b[39m])) \u001b[38;5;241m*\u001b[39m ( ( \u001b[43mnp\u001b[49m\u001b[38;5;241;43m.\u001b[39;49m\u001b[43mcorrcoef\u001b[49m\u001b[43m(\u001b[49m\u001b[38;5;28;43mself\u001b[39;49m\u001b[38;5;241;43m.\u001b[39;49m\u001b[43mparameters\u001b[49m\u001b[38;5;241;43m.\u001b[39;49m\u001b[43mloc\u001b[49m\u001b[43m[\u001b[49m\u001b[43mi\u001b[49m\u001b[43m,\u001b[49m\u001b[43m \u001b[49m\u001b[38;5;124;43m'\u001b[39;49m\u001b[38;5;124;43mCenter\u001b[39;49m\u001b[38;5;124;43m'\u001b[39;49m\u001b[43m]\u001b[49m\u001b[38;5;241;43m.\u001b[39;49m\u001b[43mT\u001b[49m\u001b[43m,\u001b[49m\u001b[43m \u001b[49m\u001b[43mx\u001b[49m\u001b[38;5;241;43m.\u001b[39;49m\u001b[43mT\u001b[49m\u001b[43m)\u001b[49m[\u001b[38;5;241m0\u001b[39m,\u001b[38;5;241m1\u001b[39m] \u001b[38;5;241m+\u001b[39m \u001b[38;5;241m1\u001b[39m) \u001b[38;5;241m/\u001b[39m \u001b[38;5;241m2\u001b[39m )\n",
      "File \u001b[1;32m<__array_function__ internals>:200\u001b[0m, in \u001b[0;36mcorrcoef\u001b[1;34m(*args, **kwargs)\u001b[0m\n",
      "File \u001b[1;32m~\\AppData\\Roaming\\Python\\Python39\\site-packages\\numpy\\lib\\function_base.py:2846\u001b[0m, in \u001b[0;36mcorrcoef\u001b[1;34m(x, y, rowvar, bias, ddof, dtype)\u001b[0m\n\u001b[0;32m   2842\u001b[0m \u001b[38;5;28;01mif\u001b[39;00m bias \u001b[38;5;129;01mis\u001b[39;00m \u001b[38;5;129;01mnot\u001b[39;00m np\u001b[38;5;241m.\u001b[39m_NoValue \u001b[38;5;129;01mor\u001b[39;00m ddof \u001b[38;5;129;01mis\u001b[39;00m \u001b[38;5;129;01mnot\u001b[39;00m np\u001b[38;5;241m.\u001b[39m_NoValue:\n\u001b[0;32m   2843\u001b[0m     \u001b[38;5;66;03m# 2015-03-15, 1.10\u001b[39;00m\n\u001b[0;32m   2844\u001b[0m     warnings\u001b[38;5;241m.\u001b[39mwarn(\u001b[38;5;124m'\u001b[39m\u001b[38;5;124mbias and ddof have no effect and are deprecated\u001b[39m\u001b[38;5;124m'\u001b[39m,\n\u001b[0;32m   2845\u001b[0m                   \u001b[38;5;167;01mDeprecationWarning\u001b[39;00m, stacklevel\u001b[38;5;241m=\u001b[39m\u001b[38;5;241m3\u001b[39m)\n\u001b[1;32m-> 2846\u001b[0m c \u001b[38;5;241m=\u001b[39m \u001b[43mcov\u001b[49m\u001b[43m(\u001b[49m\u001b[43mx\u001b[49m\u001b[43m,\u001b[49m\u001b[43m \u001b[49m\u001b[43my\u001b[49m\u001b[43m,\u001b[49m\u001b[43m \u001b[49m\u001b[43mrowvar\u001b[49m\u001b[43m,\u001b[49m\u001b[43m \u001b[49m\u001b[43mdtype\u001b[49m\u001b[38;5;241;43m=\u001b[39;49m\u001b[43mdtype\u001b[49m\u001b[43m)\u001b[49m\n\u001b[0;32m   2847\u001b[0m \u001b[38;5;28;01mtry\u001b[39;00m:\n\u001b[0;32m   2848\u001b[0m     d \u001b[38;5;241m=\u001b[39m diag(c)\n",
      "File \u001b[1;32m<__array_function__ internals>:200\u001b[0m, in \u001b[0;36mcov\u001b[1;34m(*args, **kwargs)\u001b[0m\n",
      "File \u001b[1;32m~\\AppData\\Roaming\\Python\\Python39\\site-packages\\numpy\\lib\\function_base.py:2631\u001b[0m, in \u001b[0;36mcov\u001b[1;34m(m, y, rowvar, bias, ddof, fweights, aweights, dtype)\u001b[0m\n\u001b[0;32m   2628\u001b[0m     \u001b[38;5;28;01melse\u001b[39;00m:\n\u001b[0;32m   2629\u001b[0m         dtype \u001b[38;5;241m=\u001b[39m np\u001b[38;5;241m.\u001b[39mresult_type(m, y, np\u001b[38;5;241m.\u001b[39mfloat64)\n\u001b[1;32m-> 2631\u001b[0m X \u001b[38;5;241m=\u001b[39m \u001b[43marray\u001b[49m\u001b[43m(\u001b[49m\u001b[43mm\u001b[49m\u001b[43m,\u001b[49m\u001b[43m \u001b[49m\u001b[43mndmin\u001b[49m\u001b[38;5;241;43m=\u001b[39;49m\u001b[38;5;241;43m2\u001b[39;49m\u001b[43m,\u001b[49m\u001b[43m \u001b[49m\u001b[43mdtype\u001b[49m\u001b[38;5;241;43m=\u001b[39;49m\u001b[43mdtype\u001b[49m\u001b[43m)\u001b[49m\n\u001b[0;32m   2632\u001b[0m \u001b[38;5;28;01mif\u001b[39;00m \u001b[38;5;129;01mnot\u001b[39;00m rowvar \u001b[38;5;129;01mand\u001b[39;00m X\u001b[38;5;241m.\u001b[39mshape[\u001b[38;5;241m0\u001b[39m] \u001b[38;5;241m!=\u001b[39m \u001b[38;5;241m1\u001b[39m:\n\u001b[0;32m   2633\u001b[0m     X \u001b[38;5;241m=\u001b[39m X\u001b[38;5;241m.\u001b[39mT\n",
      "\u001b[1;31mKeyboardInterrupt\u001b[0m: "
     ]
    }
   ],
   "source": [
    "from itertools import product\n",
    "\n",
    "def grid_search_ePL_KRLS_DISCO(X, y, param_grid, splits):\n",
    "    print(\"Iniciando Grid Search - ePL_KRLS_DISCO\")\n",
    "    print(\"---------------------------------------------------------------------------------\\n\")\n",
    "    \n",
    "    best_score = float('inf')\n",
    "    best_params = None\n",
    "    all_results = []\n",
    "\n",
    "    # Gerar todas as combinações possíveis de hiperparâmetros\n",
    "    param_names = list(param_grid.keys())\n",
    "    param_combinations = list(product(*param_grid.values()))\n",
    "\n",
    "    for i, param_values in enumerate(param_combinations):\n",
    "        print(f\"Testando combinação {i+1}/{len(param_combinations)}\")\n",
    "        print(f\"Parâmetros: {dict(zip(param_names, param_values))}\")\n",
    "        \n",
    "        # Atualizar os hiperparâmetros do modelo\n",
    "        hyperparams = dict(zip(param_names, param_values))\n",
    "\n",
    "        # Criar uma nova função de avaliação para este conjunto de hiperparâmetros\n",
    "        def avaliaModelo(X, y, splits=splits):\n",
    "            from ePL_KRLS_DISCO import ePL_KRLS_DISCO\n",
    "            mae_scores = np.array([])\n",
    "            rmse_scores = np.array([])\n",
    "\n",
    "            for train_index, test_index in splits:\n",
    "                from ePL_KRLS_DISCO import ePL_KRLS_DISCO\n",
    "                model = ePL_KRLS_DISCO(**hyperparams)\n",
    "                X_train, X_test = X[train_index], X[test_index]\n",
    "                y_train, y_test = y[train_index], y[test_index]\n",
    "\n",
    "                OutputTraining, Rules = model.fit(X_train, y_train)\n",
    "                OutputTest = model.predict(X_test)\n",
    "\n",
    "                tmp_y_test = scaler_y.inverse_transform(y_test.reshape(-1, 1))\n",
    "                tmp_prev = scaler_y.inverse_transform(OutputTest.reshape(-1, 1))\n",
    "\n",
    "                mae = mean_absolute_error(tmp_y_test, tmp_prev)\n",
    "                rmse = np.sqrt(mean_squared_error(tmp_y_test, tmp_prev))\n",
    "\n",
    "                mae_scores = np.append(mae_scores, mae)\n",
    "                rmse_scores = np.append(rmse_scores, rmse)\n",
    "\n",
    "            return mae_scores.mean(), rmse_scores.mean()\n",
    "\n",
    "        # Avaliar o modelo com os hiperparâmetros atuais\n",
    "        mae_mean, rmse_mean = avaliaModelo(X, y)\n",
    "\n",
    "        print(f\"Resultado: MAE = {mae_mean:.3f}, RMSE = {rmse_mean:.3f}\\n\")\n",
    "\n",
    "        # Guardar o resultado\n",
    "        all_results.append((hyperparams, mae_mean, rmse_mean))\n",
    "\n",
    "        # Verificar se é a melhor combinação de hiperparâmetros até agora\n",
    "        if rmse_mean < best_score:\n",
    "            best_score = rmse_mean\n",
    "            best_params = hyperparams\n",
    "\n",
    "    print(\"Grid Search concluído\")\n",
    "    print(\"---------------------------------------------------------------------------------\")\n",
    "    print(f\"Melhores parâmetros encontrados: {best_params}\")\n",
    "    print(f\"Melhor RMSE: {best_score:.3f}\\n\")\n",
    "\n",
    "    return best_params, best_score, all_results\n",
    "\n",
    "\n",
    "best_params, best_score, all_results = grid_search_ePL_KRLS_DISCO(X.values, y, param_grid, all_splits)"
   ]
  },
  {
   "cell_type": "code",
   "execution_count": null,
   "metadata": {},
   "outputs": [],
   "source": []
  }
 ],
 "metadata": {
  "kernelspec": {
   "display_name": "base",
   "language": "python",
   "name": "python3"
  },
  "language_info": {
   "codemirror_mode": {
    "name": "ipython",
    "version": 3
   },
   "file_extension": ".py",
   "mimetype": "text/x-python",
   "name": "python",
   "nbconvert_exporter": "python",
   "pygments_lexer": "ipython3",
   "version": "3.9.5"
  }
 },
 "nbformat": 4,
 "nbformat_minor": 2
}
