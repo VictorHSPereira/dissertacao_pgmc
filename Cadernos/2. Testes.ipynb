{
 "cells": [
  {
   "cell_type": "markdown",
   "metadata": {},
   "source": [
    "# Imports necessários"
   ]
  },
  {
   "cell_type": "markdown",
   "metadata": {},
   "source": [
    "## Bibliotecas"
   ]
  },
  {
   "cell_type": "code",
   "execution_count": 91,
   "metadata": {},
   "outputs": [],
   "source": [
    "from sklearn.model_selection import cross_val_score, train_test_split\n",
    "from sklearn.metrics import mean_squared_error\n",
    "from sklearn.metrics import mean_absolute_error\n",
    "import matplotlib.pyplot as plt \n",
    "\n",
    "import statistics as st\n",
    "import sys\n",
    "import math\n",
    "import pandas as pd\n",
    "import numpy as np\n",
    "sys.path.insert(1, '..\\Modelo')\n"
   ]
  },
  {
   "cell_type": "markdown",
   "metadata": {},
   "source": [
    "## Importando o modelo"
   ]
  },
  {
   "cell_type": "code",
   "execution_count": 13,
   "metadata": {},
   "outputs": [],
   "source": [
    "from ePL_KRLS_DISCO import ePL_KRLS_DISCO"
   ]
  },
  {
   "cell_type": "markdown",
   "metadata": {},
   "source": [
    "## Importando a série"
   ]
  },
  {
   "cell_type": "code",
   "execution_count": 6,
   "metadata": {},
   "outputs": [],
   "source": [
    "df = pd.read_csv(\"../Dados/Dados refinados/timeseries.csv\", index_col= 0)"
   ]
  },
  {
   "cell_type": "code",
   "execution_count": 7,
   "metadata": {},
   "outputs": [
    {
     "data": {
      "text/html": [
       "<div>\n",
       "<style scoped>\n",
       "    .dataframe tbody tr th:only-of-type {\n",
       "        vertical-align: middle;\n",
       "    }\n",
       "\n",
       "    .dataframe tbody tr th {\n",
       "        vertical-align: top;\n",
       "    }\n",
       "\n",
       "    .dataframe thead th {\n",
       "        text-align: right;\n",
       "    }\n",
       "</style>\n",
       "<table border=\"1\" class=\"dataframe\">\n",
       "  <thead>\n",
       "    <tr style=\"text-align: right;\">\n",
       "      <th></th>\n",
       "      <th>mes</th>\n",
       "      <th>dia</th>\n",
       "      <th>hora</th>\n",
       "      <th>QTD_VEICULOS_USINA</th>\n",
       "      <th>primeira_quinzena</th>\n",
       "      <th>feriado</th>\n",
       "      <th>fim_semana</th>\n",
       "      <th>TPV</th>\n",
       "    </tr>\n",
       "  </thead>\n",
       "  <tbody>\n",
       "    <tr>\n",
       "      <th>0</th>\n",
       "      <td>1</td>\n",
       "      <td>2</td>\n",
       "      <td>7</td>\n",
       "      <td>1</td>\n",
       "      <td>1</td>\n",
       "      <td>0</td>\n",
       "      <td>1</td>\n",
       "      <td>2.220000</td>\n",
       "    </tr>\n",
       "    <tr>\n",
       "      <th>1</th>\n",
       "      <td>1</td>\n",
       "      <td>2</td>\n",
       "      <td>8</td>\n",
       "      <td>1</td>\n",
       "      <td>1</td>\n",
       "      <td>0</td>\n",
       "      <td>1</td>\n",
       "      <td>0.000000</td>\n",
       "    </tr>\n",
       "    <tr>\n",
       "      <th>2</th>\n",
       "      <td>1</td>\n",
       "      <td>2</td>\n",
       "      <td>8</td>\n",
       "      <td>0</td>\n",
       "      <td>1</td>\n",
       "      <td>0</td>\n",
       "      <td>1</td>\n",
       "      <td>2.605000</td>\n",
       "    </tr>\n",
       "    <tr>\n",
       "      <th>3</th>\n",
       "      <td>1</td>\n",
       "      <td>2</td>\n",
       "      <td>9</td>\n",
       "      <td>1</td>\n",
       "      <td>1</td>\n",
       "      <td>0</td>\n",
       "      <td>1</td>\n",
       "      <td>0.000000</td>\n",
       "    </tr>\n",
       "    <tr>\n",
       "      <th>4</th>\n",
       "      <td>1</td>\n",
       "      <td>2</td>\n",
       "      <td>9</td>\n",
       "      <td>1</td>\n",
       "      <td>1</td>\n",
       "      <td>0</td>\n",
       "      <td>1</td>\n",
       "      <td>0.000000</td>\n",
       "    </tr>\n",
       "    <tr>\n",
       "      <th>...</th>\n",
       "      <td>...</td>\n",
       "      <td>...</td>\n",
       "      <td>...</td>\n",
       "      <td>...</td>\n",
       "      <td>...</td>\n",
       "      <td>...</td>\n",
       "      <td>...</td>\n",
       "      <td>...</td>\n",
       "    </tr>\n",
       "    <tr>\n",
       "      <th>13035</th>\n",
       "      <td>9</td>\n",
       "      <td>30</td>\n",
       "      <td>21</td>\n",
       "      <td>3</td>\n",
       "      <td>0</td>\n",
       "      <td>0</td>\n",
       "      <td>0</td>\n",
       "      <td>4.306490</td>\n",
       "    </tr>\n",
       "    <tr>\n",
       "      <th>13036</th>\n",
       "      <td>9</td>\n",
       "      <td>30</td>\n",
       "      <td>21</td>\n",
       "      <td>3</td>\n",
       "      <td>0</td>\n",
       "      <td>0</td>\n",
       "      <td>0</td>\n",
       "      <td>0.000000</td>\n",
       "    </tr>\n",
       "    <tr>\n",
       "      <th>13037</th>\n",
       "      <td>9</td>\n",
       "      <td>30</td>\n",
       "      <td>22</td>\n",
       "      <td>2</td>\n",
       "      <td>0</td>\n",
       "      <td>0</td>\n",
       "      <td>0</td>\n",
       "      <td>4.378044</td>\n",
       "    </tr>\n",
       "    <tr>\n",
       "      <th>13038</th>\n",
       "      <td>9</td>\n",
       "      <td>30</td>\n",
       "      <td>22</td>\n",
       "      <td>1</td>\n",
       "      <td>0</td>\n",
       "      <td>0</td>\n",
       "      <td>0</td>\n",
       "      <td>4.419491</td>\n",
       "    </tr>\n",
       "    <tr>\n",
       "      <th>13039</th>\n",
       "      <td>9</td>\n",
       "      <td>30</td>\n",
       "      <td>23</td>\n",
       "      <td>0</td>\n",
       "      <td>0</td>\n",
       "      <td>0</td>\n",
       "      <td>0</td>\n",
       "      <td>4.530175</td>\n",
       "    </tr>\n",
       "  </tbody>\n",
       "</table>\n",
       "<p>13040 rows × 8 columns</p>\n",
       "</div>"
      ],
      "text/plain": [
       "       mes  dia  hora  QTD_VEICULOS_USINA  primeira_quinzena  feriado  \\\n",
       "0        1    2     7                   1                  1        0   \n",
       "1        1    2     8                   1                  1        0   \n",
       "2        1    2     8                   0                  1        0   \n",
       "3        1    2     9                   1                  1        0   \n",
       "4        1    2     9                   1                  1        0   \n",
       "...    ...  ...   ...                 ...                ...      ...   \n",
       "13035    9   30    21                   3                  0        0   \n",
       "13036    9   30    21                   3                  0        0   \n",
       "13037    9   30    22                   2                  0        0   \n",
       "13038    9   30    22                   1                  0        0   \n",
       "13039    9   30    23                   0                  0        0   \n",
       "\n",
       "       fim_semana       TPV  \n",
       "0               1  2.220000  \n",
       "1               1  0.000000  \n",
       "2               1  2.605000  \n",
       "3               1  0.000000  \n",
       "4               1  0.000000  \n",
       "...           ...       ...  \n",
       "13035           0  4.306490  \n",
       "13036           0  0.000000  \n",
       "13037           0  4.378044  \n",
       "13038           0  4.419491  \n",
       "13039           0  4.530175  \n",
       "\n",
       "[13040 rows x 8 columns]"
      ]
     },
     "execution_count": 7,
     "metadata": {},
     "output_type": "execute_result"
    }
   ],
   "source": [
    "df"
   ]
  },
  {
   "cell_type": "code",
   "execution_count": 76,
   "metadata": {},
   "outputs": [],
   "source": [
    "def Normalize_Data(data):\n",
    "    Max_data = np.max(data)\n",
    "    Min_data = np.min(data)\n",
    "    Normalized_data = (data - Min_data)/(Max_data - Min_data)\n",
    "    return Normalized_data, Max_data, Min_data\n",
    "\n",
    "Data = df.to_numpy()\n",
    "\n",
    "test_size = 0.2\n",
    "split_index = int(len(df) * (1 - test_size))\n",
    "\n",
    "# Separating the inputs and output\n",
    "X = Data[:, :-1]\n",
    "y = Data[:, -1]\n",
    "\n",
    "# Normalize the inputs and the output\n",
    "Normalized_X, X_max, X_min = Normalize_Data(X)\n",
    "Normalized_y, y_max, y_min = Normalize_Data(y)\n",
    "\n",
    "X_train = Normalized_X[:split_index, :]\n",
    "y_train = Normalized_y[:split_index]\n",
    "\n",
    "X_test = Normalized_X[split_index:, :]\n",
    "y_test = Normalized_y[split_index:]\n",
    "\n",
    "# Training the model\n",
    "OutputTraining, Rules = model.fit(X_train, y_train)"
   ]
  },
  {
   "cell_type": "code",
   "execution_count": 79,
   "metadata": {},
   "outputs": [],
   "source": [
    "OutputTest = model.predict(X_test)"
   ]
  },
  {
   "cell_type": "code",
   "execution_count": 81,
   "metadata": {},
   "outputs": [
    {
     "data": {
      "text/plain": [
       "array([-6.76702282e-05, -2.99424179e-01, -2.55774637e-01, ...,\n",
       "       -7.22610771e+01, -7.06676767e+01, -6.84577682e+01])"
      ]
     },
     "execution_count": 81,
     "metadata": {},
     "output_type": "execute_result"
    }
   ],
   "source": [
    "OutputTestDenormalized = OutputTest * (y_max - y_min) + y_min\n",
    "OutputTestDenormalized\n"
   ]
  },
  {
   "cell_type": "code",
   "execution_count": 88,
   "metadata": {},
   "outputs": [],
   "source": [
    "RMSE = math.sqrt(mean_squared_error(y_test, OutputTestDenormalized))\n",
    "# Compute the Non-Dimensional Error Index\n",
    "NDEI= RMSE/st.stdev(y_test.flatten())\n",
    "# Compute the Mean Absolute Error\n",
    "MAE = mean_absolute_error(y_test, OutputTestDenormalized)\n"
   ]
  },
  {
   "cell_type": "code",
   "execution_count": 89,
   "metadata": {},
   "outputs": [
    {
     "name": "stdout",
     "output_type": "stream",
     "text": [
      "RMSE =  50.748195610176204\n",
      "NDEI =  535.2535220943422\n",
      "MAE =  37.91276204884071\n",
      "Final Rules =  1\n"
     ]
    }
   ],
   "source": [
    "# Printing the RMSE\n",
    "print(\"RMSE = \", RMSE)\n",
    "# Printing the NDEI\n",
    "print(\"NDEI = \", NDEI)\n",
    "# Printing the MAE\n",
    "print(\"MAE = \", MAE)\n",
    "# Printing the number of final rules\n",
    "print(\"Final Rules = \", Rules[-1])"
   ]
  },
  {
   "cell_type": "code",
   "execution_count": 92,
   "metadata": {},
   "outputs": [
    {
     "data": {
      "image/png": "[encoded data removed]",
      "text/plain": [
       "<Figure size 432x288 with 1 Axes>"
      ]
     },
     "metadata": {
      "needs_background": "light"
     },
     "output_type": "display_data"
    }
   ],
   "source": [
    "# Plot the graphic of the actual time series and the eTS predictions\n",
    "plt.plot(y_test, label='Actual Value', color='red')\n",
    "plt.plot(OutputTestDenormalized, color='blue', label='eTS')\n",
    "plt.ylabel('Output')\n",
    "plt.xlabel('Samples')\n",
    "plt.legend()\n",
    "plt.show()"
   ]
  },
  {
   "cell_type": "code",
   "execution_count": 93,
   "metadata": {},
   "outputs": [
    {
     "data": {
      "image/png": "[encoded data removed]",
      "text/plain": [
       "<Figure size 432x288 with 1 Axes>"
      ]
     },
     "metadata": {
      "needs_background": "light"
     },
     "output_type": "display_data"
    }
   ],
   "source": [
    "# Plot the evolution of the model's rule\n",
    "plt.plot(Rules, color='blue')\n",
    "plt.ylabel('Number of Fuzzy Rules')\n",
    "plt.xlabel('Samples')\n",
    "plt.show()"
   ]
  },
  {
   "cell_type": "code",
   "execution_count": null,
   "metadata": {},
   "outputs": [],
   "source": []
  }
 ],
 "metadata": {
  "kernelspec": {
   "display_name": "base",
   "language": "python",
   "name": "python3"
  },
  "language_info": {
   "codemirror_mode": {
    "name": "ipython",
    "version": 3
   },
   "file_extension": ".py",
   "mimetype": "text/x-python",
   "name": "python",
   "nbconvert_exporter": "python",
   "pygments_lexer": "ipython3",
   "version": "3.9.7"
  }
 },
 "nbformat": 4,
 "nbformat_minor": 2
}
